{
 "cells": [
  {
   "cell_type": "code",
   "execution_count": 1,
   "metadata": {},
   "outputs": [
    {
     "name": "stdout",
     "output_type": "stream",
     "text": [
      "Populating the interactive namespace from numpy and matplotlib\n"
     ]
    }
   ],
   "source": [
    "%pylab osx"
   ]
  },
  {
   "cell_type": "code",
   "execution_count": 2,
   "metadata": {},
   "outputs": [
    {
     "name": "stderr",
     "output_type": "stream",
     "text": [
      "/usr/local/lib/python3.6/site-packages/pandas/compat/__init__.py:117: UserWarning: Could not import the lzma module. Your installed Python is incomplete. Attempting to use lzma compression will result in a RuntimeError.\n",
      "  warnings.warn(msg)\n"
     ]
    }
   ],
   "source": [
    "import numpy as np\n",
    "import pandas as pd\n",
    "import matplotlib.pyplot as plt\n",
    "from mpl_toolkits.mplot3d import Axes3D\n",
    "import csv, os\n",
    "import scipy.optimize\n",
    "import scipy.special as ss\n",
    "from math import *\n",
    "π = np.pi"
   ]
  },
  {
   "cell_type": "code",
   "execution_count": 18,
   "metadata": {},
   "outputs": [
    {
     "data": {
      "text/plain": [
       "122"
      ]
     },
     "execution_count": 18,
     "metadata": {},
     "output_type": "execute_result"
    }
   ],
   "source": [
    "Res = pd.DataFrame()\n",
    "\n",
    "for i in range(200):\n",
    "    itempath = \"langevin-reset-x0var/\"+str(i+1)\n",
    "    ppath = itempath+\"-params.csv\"\n",
    "    if os.path.exists(ppath):\n",
    "    #    res = {}\n",
    "        df = pd.read_csv(ppath, sep=',', header=None)\n",
    "        df = df.set_index(0).T\n",
    "        df['i'] = i\n",
    "        if not 'mfpt' in df.columns:\n",
    "            first_times = np.array(pd.read_csv(itempath+\"-ft.csv\", names=['ft'])['ft'])\n",
    "            df['mfpt'] = np.mean(first_times)\n",
    "            df['fpt_stdev'] = np.std(first_times)\n",
    "            df['n_traj'] = len(first_times)\n",
    "            del first_times\n",
    "        if not 'Delta_t' in df.columns:\n",
    "            df['Delta_t'] = 50 * 1.5e-6\n",
    "    #    for key in df:\n",
    "    #        res[key] = df[key][1]\n",
    "    #    Res.append(res)\n",
    "        if (df['Delta_t']/df['part_m']).iloc[0] < 1e-3:\n",
    "            Res = Res.append(df, ignore_index=True, sort=False)\n",
    "\n",
    "len(Res)"
   ]
  },
  {
   "cell_type": "code",
   "execution_count": 19,
   "metadata": {},
   "outputs": [],
   "source": [
    "Res['tau'] = 4*Res['D']*Res['mfpt']/Res['L']**2\n",
    "Res['tau_err'] = 4*Res['D']*(Res['fpt_stdev']/np.sqrt(Res['n_traj']))/Res['L']**2"
   ]
  },
  {
   "cell_type": "code",
   "execution_count": 63,
   "metadata": {},
   "outputs": [],
   "source": [
    "fig = plt.figure(figsize=(10,8))\n",
    "ax = fig.add_subplot(1,1,1, projection='3d')\n",
    "ax.scatter( Res['b'], Res['c'], Res['tau'] )\n",
    "plt.xlabel(r\"$b=x_t/\\sigma$\")\n",
    "plt.ylabel(r\"$c=L\\sqrt{\\alpha/D}$\")\n",
    "#plt.zlabel(r\"$\\tau$\")\n",
    "plt.show()"
   ]
  },
  {
   "cell_type": "code",
   "execution_count": 20,
   "metadata": {},
   "outputs": [
    {
     "name": "stderr",
     "output_type": "stream",
     "text": [
      "/usr/local/lib/python3.6/site-packages/ipykernel_launcher.py:6: RuntimeWarning: divide by zero encountered in true_divide\n",
      "  \n",
      "/usr/local/lib/python3.6/site-packages/ipykernel_launcher.py:6: RuntimeWarning: invalid value encountered in true_divide\n",
      "  \n"
     ]
    }
   ],
   "source": [
    "plt.figure(figsize=(10,7))\n",
    "groups = Res.groupby( Res['b'].apply(lambda x: round(x,2)) )\n",
    "for b, Res_b in list(groups):\n",
    "    if len(Res_b) > 4:\n",
    "        c = np.linspace(0.4, 14, 200)\n",
    "        tau = 4/c**2 * ( (2*np.exp(-c**2/2/b**2)) / ( np.exp(c)*ss.erfc((c/b+b)/sqrt(2)) + np.exp(-c)*ss.erfc((c/b-b)/sqrt(2)) ) - 1 )\n",
    "        p = plt.plot(c, tau)\n",
    "        c = np.array(Res_b['c'])\n",
    "        i = np.argsort(c)\n",
    "        c = c[i]\n",
    "        tau = np.array(Res_b['tau'])[i]\n",
    "        err = np.array(Res_b['tau_err'])[i]\n",
    "        plt.errorbar(c, tau, label=r\"$b={:.2f}$\".format(b), color=p[0].get_color(), yerr=err, fmt='.')\n",
    "        for i in range(len(Res_b)):\n",
    "            res = Res_b.iloc[i]\n",
    "            plt.annotate(\"$\\\\alpha={}$, $L={:.2f}$, $m={}$, $\\Delta t$={:.1e}\".format(res['reset_rate'],res['L'],res['part_m'],res['Delta_t']), (res['c'],res['tau']), size=6, ha='center', va='center')\n",
    "            #plt.annotate(str(int(res['i'])), (res['c'],res['tau']), size=8, ha='center', va='center')\n",
    "        \n",
    "plt.xlabel(r\"$c=L\\sqrt{\\alpha/D}$\")\n",
    "plt.ylabel(r\"$\\tau$\")\n",
    "plt.legend()\n",
    "plt.show()"
   ]
  },
  {
   "cell_type": "code",
   "execution_count": 22,
   "metadata": {},
   "outputs": [],
   "source": [
    "plt.figure(figsize=(10,7))\n",
    "groups = Res.groupby( Res['b'].apply(lambda x: round(x,2)) )\n",
    "for b, Res_b in list(groups):\n",
    "    if b > 1 and len(Res_b) > 3:\n",
    "        c = np.linspace(0.4, 6, 200)\n",
    "        tau = 4/c**2 * ( (2*np.exp(-c**2/2/b**2)) / ( np.exp(c)*ss.erfc((c/b+b)/sqrt(2)) + np.exp(-c)*ss.erfc((c/b-b)/sqrt(2)) ) - 1 )\n",
    "        p = plt.plot(c, c*tau)\n",
    "        c = np.array(Res_b['c'])\n",
    "        i = np.argsort(c)\n",
    "        c = c[i]\n",
    "        tau = np.array(Res_b['tau'])[i]\n",
    "        err = np.array(Res_b['tau_err'])[i]\n",
    "        plt.errorbar(c, c*tau, label=r\"$b={:.2f}$\".format(b), color=p[0].get_color(), yerr=err, fmt='.')\n",
    "#        for i in range(len(Res_b)):\n",
    "#            res = Res_b.iloc[i]\n",
    "#            plt.annotate(\"$\\\\alpha={}$\\n$L={:.2f}$\\n$D={}$\".format(res['reset_rate'],res['L'],res['D']), (res['c'],res['c']*res['tau']), size=8, ha='center', va='center')\n",
    "plt.xlabel(r\"$c=L\\sqrt{\\alpha/D}$\")\n",
    "plt.yscale('log')\n",
    "plt.xscale('log')\n",
    "plt.ylabel(r\"$c\\cdot\\tau$\")\n",
    "plt.legend()\n",
    "plt.show()"
   ]
  },
  {
   "cell_type": "code",
   "execution_count": null,
   "metadata": {},
   "outputs": [],
   "source": []
  }
 ],
 "metadata": {
  "kernelspec": {
   "display_name": "Python 3",
   "language": "python",
   "name": "python3"
  },
  "language_info": {
   "codemirror_mode": {
    "name": "ipython",
    "version": 3
   },
   "file_extension": ".py",
   "mimetype": "text/x-python",
   "name": "python",
   "nbconvert_exporter": "python",
   "pygments_lexer": "ipython3",
   "version": "3.6.5"
  }
 },
 "nbformat": 4,
 "nbformat_minor": 2
}
