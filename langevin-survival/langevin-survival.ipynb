{
 "cells": [
  {
   "cell_type": "raw",
   "metadata": {},
   "source": [
    "langevin-survival.cpp\n",
    "#define ENABLE_SURVIVAL_PROBABILITIES\n",
    "#define ENABLE_POISSON_RESET (or not, in this case erase the line `simul['reset_rate'] = α`)"
   ]
  },
  {
   "cell_type": "code",
   "execution_count": null,
   "metadata": {},
   "outputs": [],
   "source": [
    "import numpy as np\n",
    "import pandas as pd\n",
    "import csv\n",
    "import matplotlib.pyplot as plt\n",
    "#import scipy.optimize\n",
    "import scipy.special\n",
    "import mpmath\n",
    "import pysimul\n",
    "import time\n",
    "from math import *\n",
    "π = np.pi"
   ]
  },
  {
   "cell_type": "code",
   "execution_count": null,
   "metadata": {},
   "outputs": [],
   "source": [
    "simul = pysimul.PySimul()\n",
    "simul['T'] = 10\n",
    "simul['gamma'] = 500\n",
    "simul['part_m'] = 0.1\n",
    "simul['reset_rate'] = α = 1.5\n",
    "simul['x0sigma'] = σ = 0"
   ]
  },
  {
   "cell_type": "code",
   "execution_count": null,
   "metadata": {},
   "outputs": [],
   "source": [
    "path = \"langevin-reset/langevin-reset\""
   ]
  },
  {
   "cell_type": "code",
   "execution_count": null,
   "metadata": {},
   "outputs": [],
   "source": [
    "simul.start()"
   ]
  },
  {
   "cell_type": "code",
   "execution_count": null,
   "metadata": {},
   "outputs": [],
   "source": [
    "simul.end()"
   ]
  },
  {
   "cell_type": "code",
   "execution_count": null,
   "metadata": {},
   "outputs": [],
   "source": [
    "simul['n_trajectories']"
   ]
  },
  {
   "cell_type": "code",
   "execution_count": null,
   "metadata": {},
   "outputs": [],
   "source": [
    "simul['pause'] = 1"
   ]
  },
  {
   "cell_type": "code",
   "execution_count": null,
   "metadata": {},
   "outputs": [],
   "source": [
    "D = simul['T']/simul['gamma']\n",
    "\n",
    "def survdist_th_σ0 (x, t):\n",
    "    return scipy.special.erf(x/(2*np.sqrt(D*t))) * np.heaviside(x,0.5)\n",
    "\n",
    "def survdist_th_reset_σ0 (x, t):\n",
    "    x = np.atleast_1d(x)\n",
    "    t = np.atleast_1d(t)\n",
    "    P = np.zeros((len(x),len(t)))\n",
    "    for i in range(len(x)):\n",
    "        def psr_lp (s):\n",
    "            kappa = mpmath.sqrt( (α + s) / D )\n",
    "            e = mpmath.exp(-kappa * x[i])\n",
    "            return (1 - e) / (s + α*e)\n",
    "        for j in range(len(t)):\n",
    "            if x[i] < 0:\n",
    "                P[i,j] = 0\n",
    "            else:\n",
    "                P[i,j] = mpmath.invertlaplace(psr_lp, t[j], method='talbot')\n",
    "    return np.squeeze(P)\n",
    "\n",
    "Px0_f = lambda x: np.exp(-(x/σ)**2/2)/(sqrt(2*π)*σ)"
   ]
  },
  {
   "cell_type": "code",
   "execution_count": null,
   "metadata": {},
   "outputs": [],
   "source": [
    "# func1 should decrease away from 0 : only 2*N1+1 points are sampled,\n",
    "# alors que func2 est évaluée autant qu'il faut\n",
    "# Nout << N1\n",
    "def convolve_around_0 (func1, func2, N1, Nout, Δx):\n",
    "    # samples of func1\n",
    "    X1 = np.linspace(-N1*Δx, +N1*Δx, 2*N1+1)\n",
    "    Y1 = func1( X1 )\n",
    "    # output\n",
    "    Conv_x = np.linspace(-Nout*Δx, +Nout*Δx, 2*Nout+1)\n",
    "    Conv = np.zeros(2*Nout+1)\n",
    "    for i in range(2*Nout+1):\n",
    "        # Conv_x[i] == Δx * (i - Nout)\n",
    "        Y2 = func2( Conv_x[i] - X1 )        # à optimiser, pas besoin de ré-évaluer func2 autant…\n",
    "        Conv[i] = np.sum( Y1 * Y2 ) * Δx\n",
    "    return Conv_x, Conv\n",
    "\n",
    "def convolve_around_0 (func1, func2, N1, Nout, Δx):\n",
    "    # samples of func1\n",
    "    X1 = np.linspace(-N1*Δx, +N1*Δx, 2*N1+1)\n",
    "    Y1 = func1( X1 )\n",
    "    # samples of func2\n",
    "    X2 = np.linspace((-N1-Nout)*Δx, (+N1+Nout)*Δx, 2*(N1+Nout)+1)\n",
    "    Y2 = func2( X2 )\n",
    "    # output\n",
    "    Conv_x = np.linspace(-Nout*Δx, +Nout*Δx, 2*Nout+1)\n",
    "    Conv = np.zeros(2*Nout+1)\n",
    "    for i in range(2*Nout+1):\n",
    "        Y2loc = Y2[i:i+2*N1+1]\n",
    "        Conv[i] = np.sum( Y1 * Y2loc ) * Δx\n",
    "    return Conv_x, Conv\n",
    "\n",
    "def convolve_parametric_singlept (func1, func2, N1, Δx, x_eval, Param2):\n",
    "    # samples of func1\n",
    "    X1 = np.linspace(-N1*Δx, +N1*Δx, 2*N1+1)\n",
    "    Y1 = func1( X1 )\n",
    "    # output\n",
    "    Z = np.zeros(len(Param2))\n",
    "    for k in range(len(Param2)):\n",
    "        Y2 = func2( x_eval - X1, Param2[k] )\n",
    "        Z[k] = np.sum( Y1 * Y2 ) * Δx\n",
    "    return Z"
   ]
  },
  {
   "cell_type": "code",
   "execution_count": null,
   "metadata": {},
   "outputs": [],
   "source": [
    "(acc, samples) = simul[\"survdist_time\"]\n",
    "survdist_time = acc/samples*len(acc)\n",
    "x_targ = simul['survdist_time_pos']\n",
    "\n",
    "t = t_th = np.linspace(0, simul[\"survdist_max_t\"], len(acc))+1e-100\n",
    "if σ < 0.001:\n",
    "    if α < 1e-10:\n",
    "        Pt_th = survdist_th_σ0( x_targ, t_th )\n",
    "    else:\n",
    "        t_th = np.linspace(0, simul[\"survdist_max_t\"], 50)+1e-10\n",
    "        Pt_th = survdist_th_reset_σ0( x_targ, t_th )\n",
    "else:\n",
    "    if α < 1e-10:\n",
    "        Pt_th = convolve_parametric_singlept(Px0_f, survdist_th_σ0, 5000, 0.001, x_targ, t_th)\n",
    "    else:\n",
    "        #t_th = np.linspace(0, simul[\"survdist_max_t\"], 30)+1e-10\n",
    "        #Pt_th = convolve_parametric_singlept(Px0_f, survdist_th_reset_σ0, 50, 0.1, x_targ, t_th)\n",
    "        #\n",
    "        # ne fonctionne pas, la courbe théorique est probablement plus compliquée !\n",
    "        t_th = [0]\n",
    "        Pt_th = [float('nan')]\n",
    "\n",
    "plt.figure(figsize=(7,4))\n",
    "#plt.plot(t_th, Pt_th, label=r\"theoretical ($m=0$)\", color='black', linestyle='dashed', lw=3)\n",
    "plt.plot(t_th, Pt_th, label=r\"théorique ($m=0$)\", color='black', linestyle='dashed', lw=3)\n",
    "#plt.plot(t, survdist_time, label=r\"measured ($m/\\gamma={:.1e}$)\".format(simul['part_m']/simul['gamma']))\n",
    "plt.plot(t, survdist_time, label=r\"mesuré ($m/\\gamma=2\\cdot 10^{-4}$)\")\n",
    "plt.xlabel(\"$t$\")\n",
    "plt.ylim((0,1.05))\n",
    "#title = r\"1D survival probability for $x_\\operatorname{{target}}={}$ with $D={}$ and $\\sigma_{{x_0}}={}$\".format(x_targ,D,σ)\n",
    "title = r\"Probabilité de survie 1D à $L={}$ avec $D={}$\".format(x_targ,D)\n",
    "if α > 1e-10:\n",
    "    #title += \"\\n\"+r\"with poissonian resetting at a rate $\\alpha={}$\".format(α)\n",
    "    title += \"\\n\"+r\"et réinitialisation poissonienne de taux $\\alpha={}$\".format(α)\n",
    "    plt.axvline(x=1/α, label=r\"t=$1/\\alpha$\", color='red')\n",
    "plt.title(title)\n",
    "plt.legend(loc='lower left')\n",
    "plt.savefig(path+\"-survival-time.pdf\", bbox_inches='tight')"
   ]
  },
  {
   "cell_type": "code",
   "execution_count": null,
   "metadata": {},
   "outputs": [],
   "source": [
    "(acc, samples) = simul['survdist_pos']\n",
    "survdist_pos = acc/samples\n",
    "\n",
    "t_sample = simul['survdist_pos_time']\n",
    "xtarg = np.linspace(0, simul['survdist_max_x'], len(acc))\n",
    "if σ < 0.001:\n",
    "    if α < 1e-10:\n",
    "        xtarg_th = xtarg\n",
    "        Pxtarg_th = survdist_th_σ0(xtarg, t_sample)\n",
    "    else:\n",
    "        xtarg_th = np.linspace(0, simul['survdist_max_x'], 50)\n",
    "        Pxtarg_th = survdist_th_reset_σ0(xtarg_th, t_sample)\n",
    "else:\n",
    "    if α < 1e-10:\n",
    "        Δx = simul['survdist_max_x'] / len(acc)\n",
    "        surv_f = lambda x: survdist_th_σ0(x, t_sample)\n",
    "        x,P = convolve_around_0(Px0_f, surv_f, 5000, len(acc)-1, Δx)\n",
    "        xtarg_th = xtarg = x[len(acc)-1:]\n",
    "        Pxtarg_th = P[len(acc)-1:]\n",
    "    else:\n",
    "        #xtarg_th = np.linspace(0, simul['survdist_max_x'], 50)\n",
    "        #surv_f = lambda x: survdist_th_reset_σ0(x, t_sample)\n",
    "        #Δx = 0.01\n",
    "        #N = int(simul['survdist_max_x']/Δx)\n",
    "        #x,P = convolve_around_0(Px0_f, surv_f, 100, N, Δx)\n",
    "        #xtarg_th = x[N:]\n",
    "        #Pxtarg_th = P[N:]\n",
    "        #\n",
    "        # ne fonctionne pas, la courbe théorique est probablement plus compliquée !\n",
    "        xtarg_th = [0]\n",
    "        Pxtarg_th = [float('nan')]\n",
    "\n",
    "plt.figure(figsize=(7,4))\n",
    "plt.plot(xtarg_th, Pxtarg_th, label=r\"théorique ($m=0$)\", color='black', linestyle='dashed', lw=3)\n",
    "#plt.plot(xtarg, survdist_pos, label=r\"measured ($m/\\gamma={:.1e}$)\".format(simul['part_m']/simul['gamma']))\n",
    "plt.plot(xtarg, survdist_pos, label=r\"mesuré ($m/\\gamma=2\\cdot 10^{-4}$)\")\n",
    "plt.ylim((-0.05, 1.05))\n",
    "#plt.xlabel(r\"$x_\\operatorname{target}$\")\n",
    "plt.xlabel(r\"$L$\")\n",
    "#title = r\"1D survival probability at $t={}$ with $D={}$ and $\\sigma_{{x_0}}={}$\".format(t_sample,D,σ)\n",
    "title = r\"Probabilité de survie 1D à $t={}$ avec $D={}$\".format(t_sample,D)\n",
    "if α > 1e-10:\n",
    "#    title += \"\\n\"+r\"with poissonian resetting at a rate $\\alpha={}$\".format(α)\n",
    "    title += \"\\n\"+r\"et réinitialisation poissonienne de taux $\\alpha={}$\".format(α)\n",
    "plt.title(title)\n",
    "plt.legend()\n",
    "plt.savefig(path+\"-survival-xtarg.pdf\", bbox_inches='tight')"
   ]
  },
  {
   "cell_type": "markdown",
   "metadata": {},
   "source": [
    "Difference between survival distribution for time and position at the common sampled point :"
   ]
  },
  {
   "cell_type": "code",
   "execution_count": null,
   "metadata": {},
   "outputs": [],
   "source": [
    "ix = np.searchsorted(xtarg, x_targ)\n",
    "it = np.searchsorted(t, t_sample)\n",
    "print(\"{:.2f} %\".format(100*abs(survdist_pos[ix]-survdist_time[it])/survdist_pos[ix]))"
   ]
  },
  {
   "cell_type": "code",
   "execution_count": null,
   "metadata": {},
   "outputs": [],
   "source": [
    "def pft_free (t, x_targ):\n",
    "    return x_targ/(2*np.sqrt(π*D*t**3)) * np.exp(-x_targ**2/(4*D*t))\n",
    "\n",
    "def pft_reset (t, x_targ):\n",
    "    def pftr_lp (s):\n",
    "        kappa = mpmath.sqrt( (α + s) / D )\n",
    "        e = mpmath.exp(-kappa*x_targ)\n",
    "        return -s * (1 - e) / (s + α*e)\n",
    "    Pft = np.zeros(len(t))\n",
    "    for k in range(len(t)):\n",
    "        Pft[k] = mpmath.invertlaplace(pftr_lp, t[k], method='talbot')\n",
    "    return Pft\n",
    "\n",
    "first_times = simul['first_times-0']\n",
    "mfpt = np.mean(first_times)\n",
    "n_traj = len(first_times)\n",
    "np.savetxt(path+\"-ft.csv\", first_times, fmt='%.3e')\n",
    "\n",
    "plt.figure(figsize=(10,4))\n",
    "plt.hist(first_times, bins=50, range=(0,20), weights=50/20*np.ones(n_traj)/n_traj, label=\"FPT distribution ({} traj.)\".format(n_traj))\n",
    "plt.axvline(x=mfpt, color='purple', label=\"MFPT (trunc.) = {:.2}\".format(mfpt))\n",
    "if σ < 0.001:\n",
    "    if α < 1e-10:\n",
    "        t = np.linspace(0,20,200)+1e-10\n",
    "        Pft = pft_free(t, x_targ)\n",
    "    else:\n",
    "        t = np.linspace(0,20,100)+1e-10\n",
    "        Pft = pft_reset(t, x_targ)\n",
    "    plt.plot(t, Pft, label=r\"theoretical FPT distrib.\", color='black', linestyle='dashed', lw=2)\n",
    "plt.xlabel(\"first passage time\")\n",
    "plt.legend()\n",
    "plt.savefig(path+\"-detail-fpt.pdf\", bbox_inches='tight')\n",
    "\n",
    "plt.figure(figsize=(10,4))\n",
    "plt.hist(first_times, bins=20, range=(0,70), weights=20/70*np.ones(n_traj)/n_traj, label=\"distribution ({} traj.)\".format(n_traj))\n",
    "plt.axvline(x=mfpt, color='purple', label=\"MFPT = {:.2}\".format(mfpt))\n",
    "if σ < 0.001:\n",
    "    t = np.linspace(2,70,100)\n",
    "    if α < 1e-10:\n",
    "        Pft = pft_free(t, x_targ)\n",
    "    else:\n",
    "        Pft = pft_reset(t, x_targ)\n",
    "    #plt.plot(t, Pft, label=r\"theoretical FPT distrib.\", color='black', linestyle='dashed', lw=2)\n",
    "    plt.plot(t, Pft, label=r\"distribution théorique du FPT\", color='black', linestyle='dashed', lw=2)\n",
    "plt.yscale('log')\n",
    "#plt.xlabel(\"first passage time\")\n",
    "plt.xlabel(\"temps de premier passage (FPT)\")\n",
    "plt.legend()\n",
    "plt.savefig(path+\"-broad-fpt.pdf\", bbox_inches='tight')"
   ]
  },
  {
   "cell_type": "code",
   "execution_count": null,
   "metadata": {},
   "outputs": [],
   "source": [
    "pd.DataFrame(list({\n",
    "    'D': D,\n",
    "    'T': simul['T'],\n",
    "    'gamma': simul['gamma'],\n",
    "    'part_m': simul['part_m'],\n",
    "    'reset_rate': α,\n",
    "    'x0sigma': σ,\n",
    "    'L': x_targ,\n",
    "    'b': x_targ/σ,\n",
    "    'c': sqrt(α/D)*x_targ,\n",
    "}.items())).set_index(0).to_csv(path+\"-params.csv\", header=False, quoting=csv.QUOTE_NONE, sep=',')"
   ]
  }
 ],
 "metadata": {
  "kernelspec": {
   "display_name": "Python 3",
   "language": "python",
   "name": "python3"
  },
  "language_info": {
   "codemirror_mode": {
    "name": "ipython",
    "version": 3
   },
   "file_extension": ".py",
   "mimetype": "text/x-python",
   "name": "python",
   "nbconvert_exporter": "python",
   "pygments_lexer": "ipython3",
   "version": "3.6.5"
  }
 },
 "nbformat": 4,
 "nbformat_minor": 2
}
