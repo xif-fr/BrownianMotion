{
 "cells": [
  {
   "cell_type": "code",
   "execution_count": 1,
   "metadata": {},
   "outputs": [
    {
     "name": "stderr",
     "output_type": "stream",
     "text": [
      "/usr/local/lib/python3.6/site-packages/pandas/compat/__init__.py:117: UserWarning: Could not import the lzma module. Your installed Python is incomplete. Attempting to use lzma compression will result in a RuntimeError.\n",
      "  warnings.warn(msg)\n"
     ]
    }
   ],
   "source": [
    "import numpy as np\n",
    "import pandas as pd\n",
    "import csv\n",
    "import matplotlib.pyplot as plt\n",
    "#import scipy.optimize\n",
    "import scipy.special\n",
    "import mpmath\n",
    "import pysimul\n",
    "import time\n",
    "from math import *\n",
    "π = np.pi"
   ]
  },
  {
   "cell_type": "code",
   "execution_count": 2,
   "metadata": {},
   "outputs": [],
   "source": [
    "simul = pysimul.PySimul()\n",
    "simul['T'] = T = 10\n",
    "simul['gamma'] = gamma = 500\n",
    "D = T / gamma\n",
    "simul['part_m'] = part_m = 0.1\n",
    "simul['reset_rate'] = α = 2\n",
    "simul['x0sigma'] = σ = 0.30"
   ]
  },
  {
   "cell_type": "code",
   "execution_count": 3,
   "metadata": {},
   "outputs": [],
   "source": [
    "simul.start()"
   ]
  },
  {
   "cell_type": "code",
   "execution_count": 53,
   "metadata": {},
   "outputs": [],
   "source": [
    "simul.end()"
   ]
  },
  {
   "cell_type": "code",
   "execution_count": 7,
   "metadata": {},
   "outputs": [
    {
     "data": {
      "text/plain": [
       "17493"
      ]
     },
     "execution_count": 7,
     "metadata": {},
     "output_type": "execute_result"
    }
   ],
   "source": [
    "simul['n_trajectories']"
   ]
  },
  {
   "cell_type": "code",
   "execution_count": 11,
   "metadata": {},
   "outputs": [],
   "source": [
    "simul['pause'] = 0"
   ]
  },
  {
   "cell_type": "code",
   "execution_count": 9,
   "metadata": {},
   "outputs": [],
   "source": [
    "i_beg = 110"
   ]
  },
  {
   "cell_type": "code",
   "execution_count": 10,
   "metadata": {},
   "outputs": [],
   "source": [
    "for i in range(10):\n",
    "    first_times = simul['first_times-'+str(i)]\n",
    "    path = \"langevin-reset-x0var/\"+str(i+i_beg)\n",
    "    np.savetxt(path+\"-ft.csv\", first_times, fmt='%.2e')\n",
    "    x_targ = (i+1)*0.05\n",
    "    pd.DataFrame(list({\n",
    "        'D': D,\n",
    "        'T': T,\n",
    "        'gamma': gamma,\n",
    "        'part_m': part_m,\n",
    "        'reset_rate': α,\n",
    "        'x0sigma': σ,\n",
    "        'L': x_targ,\n",
    "        'b': x_targ/σ,\n",
    "        'c': sqrt(α/D)*x_targ,\n",
    "        'mfpt': np.mean(first_times),\n",
    "        'fpt_stdev': np.std(first_times),\n",
    "        'n_traj': len(first_times),\n",
    "        'Delta_t': simul['Delta_t']\n",
    "    }.items())).set_index(0).to_csv(path+\"-params.csv\", header=False, quoting=csv.QUOTE_NONE, sep=',')"
   ]
  },
  {
   "cell_type": "code",
   "execution_count": 50,
   "metadata": {},
   "outputs": [
    {
     "data": {
      "text/plain": [
       "<matplotlib.legend.Legend at 0x120b63978>"
      ]
     },
     "execution_count": 50,
     "metadata": {},
     "output_type": "execute_result"
    },
    {
     "data": {
      "image/png": "[encoded data removed]",
      "text/plain": [
       "<Figure size 720x288 with 1 Axes>"
      ]
     },
     "metadata": {
      "needs_background": "light"
     },
     "output_type": "display_data"
    },
    {
     "data": {
      "image/png": "[encoded data removed]",
      "text/plain": [
       "<Figure size 720x288 with 1 Axes>"
      ]
     },
     "metadata": {
      "needs_background": "light"
     },
     "output_type": "display_data"
    }
   ],
   "source": [
    "first_times = simul['first_times-9']\n",
    "mfpt = np.mean(first_times)\n",
    "n_traj = len(first_times)\n",
    "\n",
    "plt.figure(figsize=(10,4))\n",
    "plt.hist(first_times, bins=50, range=(0,20), weights=50/20*np.ones(n_traj)/n_traj, label=\"FPT distribution ({} traj.)\".format(n_traj))\n",
    "plt.axvline(x=mfpt, color='purple', label=\"MFPT (trunc.) = {:.3f}\".format(mfpt))\n",
    "plt.xlabel(\"first passage time\")\n",
    "plt.legend()\n",
    "#plt.savefig(path+\"-detail-fpt.pdf\", bbox_inches='tight')\n",
    "\n",
    "plt.figure(figsize=(10,4))\n",
    "plt.hist(first_times, bins=20, range=(0,100), weights=20/70*np.ones(n_traj)/n_traj, label=\"distribution ({} traj.)\".format(n_traj))\n",
    "plt.axvline(x=mfpt, color='purple', label=\"MFPT (trunc.) = {:.3f}\".format(mfpt))\n",
    "plt.yscale('log')\n",
    "plt.xlabel(\"first passage time\")\n",
    "plt.legend()\n",
    "#plt.savefig(path+\"-broad-fpt.pdf\", bbox_inches='tight')"
   ]
  },
  {
   "cell_type": "code",
   "execution_count": 14,
   "metadata": {},
   "outputs": [],
   "source": []
  },
  {
   "cell_type": "code",
   "execution_count": null,
   "metadata": {},
   "outputs": [],
   "source": []
  }
 ],
 "metadata": {
  "kernelspec": {
   "display_name": "Python 3",
   "language": "python",
   "name": "python3"
  },
  "language_info": {
   "codemirror_mode": {
    "name": "ipython",
    "version": 3
   },
   "file_extension": ".py",
   "mimetype": "text/x-python",
   "name": "python",
   "nbconvert_exporter": "python",
   "pygments_lexer": "ipython3",
   "version": "3.6.5"
  }
 },
 "nbformat": 4,
 "nbformat_minor": 2
}
