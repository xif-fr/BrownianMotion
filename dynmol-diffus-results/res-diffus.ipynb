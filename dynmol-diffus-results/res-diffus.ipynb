{
 "cells": [
  {
   "cell_type": "code",
   "execution_count": 2,
   "metadata": {},
   "outputs": [],
   "source": [
    "import numpy as np\n",
    "import pandas as pd\n",
    "import matplotlib.pyplot as plt\n",
    "import csv, sys, time, os, re\n",
    "import scipy.optimize\n",
    "from math import *"
   ]
  },
  {
   "cell_type": "code",
   "execution_count": 3,
   "metadata": {},
   "outputs": [],
   "source": [
    "def do_plot (Res, label=None, show_name=True):\n",
    "    plt.errorbar(Res['T_mean'], Res['D'], xerr=Res['T_err'], yerr=Res['D_err'], linestyle=' ', label=label)\n",
    "    plt.scatter([0],[0])\n",
    "    if show_name:\n",
    "        for i in range(len(Res)):\n",
    "            r = Res.iloc[i]\n",
    "            plt.annotate(r['name'], (r['T_mean']+5,r['D']-1.2*r['D_err']), size=8, ha='center', va='top')"
   ]
  },
  {
   "cell_type": "code",
   "execution_count": 4,
   "metadata": {},
   "outputs": [],
   "source": [
    "def do_plot_gamma (Res):\n",
    "    gamma = Res['T_mean']/Res['D']\n",
    "    gamma_err = gamma * ( Res['D_err']/Res['D'] + Res['T_err']/Res['T_mean'] )\n",
    "    plt.errorbar(Res['T_mean'], gamma, xerr=Res['T_err'], yerr=gamma_err, linestyle=' ', label=r\"$\\gamma=k_B T / D$\")"
   ]
  },
  {
   "cell_type": "code",
   "execution_count": 5,
   "metadata": {},
   "outputs": [],
   "source": [
    "def load_folder (folders):\n",
    "    Res = pd.DataFrame()\n",
    "    for path in folders:\n",
    "        df = pd.read_csv(path+\"/diffus.csv\", sep=',', header=None)\n",
    "        df = df.set_index(0).T\n",
    "        for col in ['T_mean','T_err','D','D_err']:\n",
    "            df[col] = df[col].astype(float)\n",
    "        df['N_traj'] = df['N_traj'].astype(int)\n",
    "        d = dict(df)\n",
    "        d['name'] = path\n",
    "        df2 = pd.read_csv(path+\"/params.csv\", sep=',', header=None)\n",
    "        d.update(dict(df2.set_index(0).T))\n",
    "        Res = Res.append(pd.DataFrame(d), ignore_index=True, sort=False)\n",
    "    return Res"
   ]
  },
  {
   "cell_type": "markdown",
   "metadata": {},
   "source": [
    "---\n",
    "### Most recent data\n",
    "(fit with full $\\tau$-$D$ curve, improved trajectory screening and premature ending handling)"
   ]
  },
  {
   "cell_type": "code",
   "execution_count": 26,
   "metadata": {},
   "outputs": [],
   "source": [
    "Res800 = load_folder([\"remi1\",\"remi5\",\"remi6\",\"remi7\",\"remi8\",\"remi9\",\"remi10\"])\n",
    "Res400 = load_folder([\"res3\",\"res4\",\"res5\"])\n",
    "Res800bigm = load_folder([\"res51\"])"
   ]
  },
  {
   "cell_type": "code",
   "execution_count": 32,
   "metadata": {},
   "outputs": [
    {
     "data": {
      "image/png": "[encoded data removed]",
      "text/plain": [
       "<Figure size 936x504 with 1 Axes>"
      ]
     },
     "metadata": {
      "needs_background": "light"
     },
     "output_type": "display_data"
    }
   ],
   "source": [
    "plt.figure(figsize=(13,7))\n",
    "show_name = False\n",
    "do_plot(Res800, label=r\"$N=800$, $m_\\operatorname{part}=10$\", show_name=show_name)\n",
    "do_plot(Res400, label=r\"$N=400$, $m_\\operatorname{part}=10$\", show_name=show_name)\n",
    "do_plot(Res800bigm, label=r\"$N=800$, $m_\\operatorname{part}=50$\", show_name=show_name)\n",
    "plt.ylim((0,None))\n",
    "plt.xlim((0,None))\n",
    "plt.legend(loc='upper left')\n",
    "plt.xlabel(r\"$T$\")\n",
    "plt.ylabel(r\"$D$\")\n",
    "plt.savefig(\"diffus-D-T.pdf\")"
   ]
  },
  {
   "cell_type": "code",
   "execution_count": 34,
   "metadata": {},
   "outputs": [
    {
     "data": {
      "image/png": "[encoded data removed]",
      "text/plain": [
       "<Figure size 936x504 with 1 Axes>"
      ]
     },
     "metadata": {
      "needs_background": "light"
     },
     "output_type": "display_data"
    }
   ],
   "source": [
    "plt.figure(figsize=(13,7))\n",
    "do_plot_gamma(Res800)\n",
    "plt.errorbar(Res800['T_mean'], Res800['gamma'], xerr=Res800['T_err'], yerr=Res800['gamma_err'], linestyle=' ', label=r\"$\\gamma=m/\\tau$\", color=\"red\")\n",
    "plt.ylim((0,None))\n",
    "plt.xlim((0,None))\n",
    "plt.legend(loc='upper left')\n",
    "plt.xlabel(r\"$T$\")\n",
    "plt.ylabel(r\"$\\gamma$\")\n",
    "plt.savefig(\"diffus-gamma-T.pdf\")"
   ]
  },
  {
   "cell_type": "markdown",
   "metadata": {},
   "source": [
    "---\n",
    "### Old data\n",
    "(fit with linear curve)"
   ]
  },
  {
   "cell_type": "code",
   "execution_count": 22,
   "metadata": {},
   "outputs": [
    {
     "data": {
      "text/html": [
       "<div>\n",
       "<style scoped>\n",
       "    .dataframe tbody tr th:only-of-type {\n",
       "        vertical-align: middle;\n",
       "    }\n",
       "\n",
       "    .dataframe tbody tr th {\n",
       "        vertical-align: top;\n",
       "    }\n",
       "\n",
       "    .dataframe thead th {\n",
       "        text-align: right;\n",
       "    }\n",
       "</style>\n",
       "<table border=\"1\" class=\"dataframe\">\n",
       "  <thead>\n",
       "    <tr style=\"text-align: right;\">\n",
       "      <th></th>\n",
       "      <th>name</th>\n",
       "      <th>T_mean</th>\n",
       "      <th>T_err</th>\n",
       "      <th>D</th>\n",
       "      <th>D_err</th>\n",
       "    </tr>\n",
       "  </thead>\n",
       "  <tbody>\n",
       "    <tr>\n",
       "      <th>0</th>\n",
       "      <td>1</td>\n",
       "      <td>178.6</td>\n",
       "      <td>3.5</td>\n",
       "      <td>0.08300</td>\n",
       "      <td>0.00950</td>\n",
       "    </tr>\n",
       "    <tr>\n",
       "      <th>1</th>\n",
       "      <td>2</td>\n",
       "      <td>150.0</td>\n",
       "      <td>3.2</td>\n",
       "      <td>0.08025</td>\n",
       "      <td>0.01100</td>\n",
       "    </tr>\n",
       "    <tr>\n",
       "      <th>2</th>\n",
       "      <td>3</td>\n",
       "      <td>134.9</td>\n",
       "      <td>2.7</td>\n",
       "      <td>0.07900</td>\n",
       "      <td>0.00750</td>\n",
       "    </tr>\n",
       "    <tr>\n",
       "      <th>3</th>\n",
       "      <td>4</td>\n",
       "      <td>219.9</td>\n",
       "      <td>4.3</td>\n",
       "      <td>0.09250</td>\n",
       "      <td>0.00850</td>\n",
       "    </tr>\n",
       "    <tr>\n",
       "      <th>4</th>\n",
       "      <td>5</td>\n",
       "      <td>199.9</td>\n",
       "      <td>3.9</td>\n",
       "      <td>0.09175</td>\n",
       "      <td>0.00900</td>\n",
       "    </tr>\n",
       "    <tr>\n",
       "      <th>5</th>\n",
       "      <td>6</td>\n",
       "      <td>209.9</td>\n",
       "      <td>4.1</td>\n",
       "      <td>0.09475</td>\n",
       "      <td>0.01000</td>\n",
       "    </tr>\n",
       "    <tr>\n",
       "      <th>6</th>\n",
       "      <td>7</td>\n",
       "      <td>275.2</td>\n",
       "      <td>5.3</td>\n",
       "      <td>0.10850</td>\n",
       "      <td>0.00975</td>\n",
       "    </tr>\n",
       "    <tr>\n",
       "      <th>7</th>\n",
       "      <td>8</td>\n",
       "      <td>114.9</td>\n",
       "      <td>2.3</td>\n",
       "      <td>0.06375</td>\n",
       "      <td>0.00700</td>\n",
       "    </tr>\n",
       "    <tr>\n",
       "      <th>8</th>\n",
       "      <td>9</td>\n",
       "      <td>350.7</td>\n",
       "      <td>6.7</td>\n",
       "      <td>0.13175</td>\n",
       "      <td>0.01025</td>\n",
       "    </tr>\n",
       "    <tr>\n",
       "      <th>9</th>\n",
       "      <td>10</td>\n",
       "      <td>300.0</td>\n",
       "      <td>5.7</td>\n",
       "      <td>0.11400</td>\n",
       "      <td>0.01025</td>\n",
       "    </tr>\n",
       "    <tr>\n",
       "      <th>10</th>\n",
       "      <td>11</td>\n",
       "      <td>380.3</td>\n",
       "      <td>7.2</td>\n",
       "      <td>0.12950</td>\n",
       "      <td>0.01175</td>\n",
       "    </tr>\n",
       "  </tbody>\n",
       "</table>\n",
       "</div>"
      ],
      "text/plain": [
       "   name  T_mean  T_err        D    D_err\n",
       "0     1   178.6    3.5  0.08300  0.00950\n",
       "1     2   150.0    3.2  0.08025  0.01100\n",
       "2     3   134.9    2.7  0.07900  0.00750\n",
       "3     4   219.9    4.3  0.09250  0.00850\n",
       "4     5   199.9    3.9  0.09175  0.00900\n",
       "5     6   209.9    4.1  0.09475  0.01000\n",
       "6     7   275.2    5.3  0.10850  0.00975\n",
       "7     8   114.9    2.3  0.06375  0.00700\n",
       "8     9   350.7    6.7  0.13175  0.01025\n",
       "9    10   300.0    5.7  0.11400  0.01025\n",
       "10   11   380.3    7.2  0.12950  0.01175"
      ]
     },
     "execution_count": 22,
     "metadata": {},
     "output_type": "execute_result"
    }
   ],
   "source": [
    "Res2 = pd.DataFrame({\n",
    "    'name'  : [  \"1\",   \"2\",   \"3\",   \"4\",   \"5\",   \"6\",   \"7\",   \"8\",   \"9\",  \"10\",  \"11\"],\n",
    "    'T_mean': [178.6, 150.0, 134.9, 219.9, 199.9, 209.9, 275.2, 114.9, 350.7, 300.0, 380.3],\n",
    "    'T_err' : [  3.5,   3.2,   2.7,   4.3,   3.9,   4.1,   5.3,   2.3,   6.7,   5.7,   7.2],\n",
    "    'D'     : [0.332, 0.321, 0.316, 0.370, 0.367, 0.379, 0.434, 0.255, 0.527, 0.456, 0.518],\n",
    "    'D_err' : [0.038, 0.044, 0.030, 0.034, 0.036, 0.040, 0.039, 0.028, 0.041, 0.041, 0.047]\n",
    "})\n",
    "Res2['D'] /= 4\n",
    "Res2['D_err'] /= 4\n",
    "Res2"
   ]
  },
  {
   "cell_type": "code",
   "execution_count": 23,
   "metadata": {},
   "outputs": [
    {
     "data": {
      "image/png": "[encoded data removed]",
      "text/plain": [
       "<Figure size 1080x576 with 1 Axes>"
      ]
     },
     "metadata": {
      "needs_background": "light"
     },
     "output_type": "display_data"
    }
   ],
   "source": [
    "plt.figure(figsize=(15,8))\n",
    "do_plot(Res2)"
   ]
  },
  {
   "cell_type": "code",
   "execution_count": 25,
   "metadata": {},
   "outputs": [
    {
     "data": {
      "image/png": "[encoded data removed]",
      "text/plain": [
       "<Figure size 1080x576 with 1 Axes>"
      ]
     },
     "metadata": {
      "needs_background": "light"
     },
     "output_type": "display_data"
    }
   ],
   "source": [
    "plt.figure(figsize=(15,8))\n",
    "do_plot_gamma(Res2)\n",
    "plt.ylim((0,None))\n",
    "plt.xlim((0,None))\n",
    "None"
   ]
  },
  {
   "cell_type": "code",
   "execution_count": null,
   "metadata": {},
   "outputs": [],
   "source": []
  }
 ],
 "metadata": {
  "kernelspec": {
   "display_name": "Python 3",
   "language": "python",
   "name": "python3"
  },
  "language_info": {
   "codemirror_mode": {
    "name": "ipython",
    "version": 3
   },
   "file_extension": ".py",
   "mimetype": "text/x-python",
   "name": "python",
   "nbconvert_exporter": "python",
   "pygments_lexer": "ipython3",
   "version": "3.8.5"
  }
 },
 "nbformat": 4,
 "nbformat_minor": 2
}
