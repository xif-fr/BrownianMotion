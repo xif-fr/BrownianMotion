{
 "cells": [
  {
   "cell_type": "raw",
   "metadata": {},
   "source": [
    "langevin-survival.cpp\n",
    "#undef ENABLE_SURVIVAL_PROBABILITIES_*\n",
    "#define LANGEVIN_OVERDAMPED (or not, in this case set `simul['part_m']`)\n",
    "For best results, use #define FPT_JUMP_ACROSS (but for σ=0, FPT_DEMISPACE is faster)\n",
    "Resetting :\n",
    "• for poissonian resetting, #define ENABLE_POISSON_RESET, and set `simul['reset_rate']` and `reset_type='poisson'`\n",
    "• for periodical resetting, #define ENABLE_PERIODICAL_RESET, and set `simul['reset_period']` and `reset_type='per'`\n",
    "• without resetting, no additional #define, and set `reset_type='none'`\n",
    "For 2D target :\n",
    "    #define TARGET_2D_CYL\n",
    "    set `simul['2D-Rtol']`"
   ]
  },
  {
   "cell_type": "code",
   "execution_count": 1,
   "metadata": {},
   "outputs": [],
   "source": [
    "import numpy as np\n",
    "import pandas as pd\n",
    "import csv\n",
    "import matplotlib.pyplot as plt\n",
    "import pysimul\n",
    "from common import *\n",
    "from math import *"
   ]
  },
  {
   "cell_type": "code",
   "execution_count": 2,
   "metadata": {},
   "outputs": [],
   "source": [
    "simul = pysimul.PySimul()\n",
    "simul['T'] = T = 1\n",
    "simul['gamma'] = gamma = 1\n",
    "D = T / gamma\n",
    "#simul['D'] = D = 1  # for langevin-survival-simplified-2d.cpp\n",
    "part_m = 0\n",
    "#simul['part_m'] = part_m = 0.1\n",
    "reset_type = 'per'\n",
    "#simul['reset_rate'] = α = 25\n",
    "simul['reset_period'] = rT = 0.01\n",
    "simul['x0sigma'] = σ = 0\n",
    "simul['2D-Rtol'] = Rtol = 0.08\n",
    "target_2D = True\n",
    "path = \"data-2d-periodical-fix/\""
   ]
  },
  {
   "cell_type": "code",
   "execution_count": 3,
   "metadata": {},
   "outputs": [],
   "source": [
    "if reset_type == 'none':\n",
    "    th_fpt_distrib = None # TODO\n",
    "    th_tau = th_tau_2d = None\n",
    "    th_c = None\n",
    "elif reset_type == 'poisson':\n",
    "    th_fpt_distrib = None # TODO\n",
    "    if not target_2D:\n",
    "        th_tau = fpt_poisson_tau\n",
    "    else:\n",
    "        th_tau_2d = fpt_2d_poisson_tau\n",
    "    th_c = lambda L: fpt_poisson_c(α, D, L)\n",
    "elif reset_type == 'per':\n",
    "    if not target_2D:\n",
    "        th_fpt_distrib = lambda t, b, c: fpt_periodic_disrib(t, rT, b, c)\n",
    "        th_tau = fpt_periodic_tau\n",
    "    else:\n",
    "        th_fpt_distrib = None # TODO\n",
    "        th_tau_2d = fpt_2d_periodical_tau\n",
    "    th_c = lambda L: fpt_periodic_c(rT, D, L)\n",
    "tau_th_cache = None"
   ]
  },
  {
   "cell_type": "code",
   "execution_count": 4,
   "metadata": {},
   "outputs": [],
   "source": [
    "simul.start()"
   ]
  },
  {
   "cell_type": "code",
   "execution_count": null,
   "metadata": {},
   "outputs": [],
   "source": [
    "simul.end()"
   ]
  },
  {
   "cell_type": "code",
   "execution_count": 8,
   "metadata": {},
   "outputs": [
    {
     "data": {
      "text/plain": [
       "1684"
      ]
     },
     "execution_count": 8,
     "metadata": {},
     "output_type": "execute_result"
    }
   ],
   "source": [
    "simul['n_trajectories']"
   ]
  },
  {
   "cell_type": "code",
   "execution_count": 19,
   "metadata": {},
   "outputs": [],
   "source": [
    "simul['pause'] = 1"
   ]
  },
  {
   "cell_type": "markdown",
   "metadata": {},
   "source": [
    "### MFPT saving"
   ]
  },
  {
   "cell_type": "code",
   "execution_count": 12,
   "metadata": {},
   "outputs": [],
   "source": [
    "i_beg = 210"
   ]
  },
  {
   "cell_type": "code",
   "execution_count": 13,
   "metadata": {},
   "outputs": [
    {
     "name": "stderr",
     "output_type": "stream",
     "text": [
      "<ipython-input-13-11bb808ff441>:19: RuntimeWarning: divide by zero encountered in double_scalars\n",
      "  'b': x_targ/σ,\n"
     ]
    }
   ],
   "source": [
    "Res = pd.DataFrame()\n",
    "simul.explicit_lock()\n",
    "first_times_xtarg = simul['first_times_xtarg']\n",
    "Δt = simul['Delta_t']\n",
    "for i in range(len(first_times_xtarg)):\n",
    "    x_targ = first_times_xtarg[i]\n",
    "    if target_2D and x_targ < Rtol*1.001:\n",
    "        continue\n",
    "    first_times = simul['first_times-'+str(i)]\n",
    "    path2 = path+str(i+i_beg)\n",
    "    np.savetxt(path2+\"-ft.csv\", first_times, fmt='%.2e')\n",
    "    d = {\n",
    "        'D': D,\n",
    "        'T': T,\n",
    "        'gamma': gamma,\n",
    "        'part_m': part_m,\n",
    "        'x0sigma': σ,\n",
    "        'L': x_targ,\n",
    "        'b': x_targ/σ,\n",
    "        'c': th_c(x_targ),\n",
    "        'mfpt': np.mean(first_times),\n",
    "        'fpt_stdev': np.std(first_times),\n",
    "        'n_traj': len(first_times),\n",
    "        'Delta_t': Δt\n",
    "    }\n",
    "    if reset_type == 'none':\n",
    "        pass\n",
    "    elif reset_type == 'poisson':\n",
    "        d['reset_rate'] = α\n",
    "    elif reset_type == 'per':\n",
    "        d['reset_period'] = rT\n",
    "    if target_2D:\n",
    "        d['Rtol'] = Rtol\n",
    "        d['a'] = Rtol / x_targ\n",
    "    else:\n",
    "        d['L_err'] = simul['xtarg_tol']\n",
    "        d['c_err'] = th_c(simul['xtarg_tol'])\n",
    "    df = pd.DataFrame(list(d.items())).set_index(0)\n",
    "    df.to_csv(path2+\"-params.csv\", header=False, quoting=csv.QUOTE_NONE, sep=',')\n",
    "    Res = Res.append(df.T, ignore_index=True, sort=False)\n",
    "simul.explicit_unlock()"
   ]
  },
  {
   "cell_type": "code",
   "execution_count": 14,
   "metadata": {},
   "outputs": [
    {
     "name": "stderr",
     "output_type": "stream",
     "text": [
      "<ipython-input-14-5b8f45ace425>:6: RuntimeWarning: divide by zero encountered in true_divide\n",
      "  b = L/σ\n"
     ]
    },
    {
     "data": {
      "image/png": "[encoded data removed]",
      "text/plain": [
       "<Figure size 1080x360 with 2 Axes>"
      ]
     },
     "metadata": {
      "needs_background": "light"
     },
     "output_type": "display_data"
    }
   ],
   "source": [
    "Res['tau'] = 4*Res['D']*Res['mfpt']/Res['L']**2\n",
    "Res['tau_err'] = 4*Res['D']*(Res['fpt_stdev']/np.sqrt(Res['n_traj']))/Res['L']**2\n",
    "\n",
    "fig, (ax1, ax2) = plt.subplots(1,2,figsize=(15,5))\n",
    "L = np.linspace(np.min(Res['L'])*0.95, np.max(Res['L'])*1.05, 80)\n",
    "b = L/σ\n",
    "if tau_th_cache is not None:\n",
    "    ax1.plot(L, tau_th_cache, color='black')\n",
    "ax1.errorbar(Res['L'], Res['tau'], yerr=Res['tau_err'], fmt='.')\n",
    "ax1.set_ylabel(r\"$\\tau$\")\n",
    "if not target_2D:\n",
    "    tau_th = th_tau(Res['b'],Res['c'])\n",
    "else:\n",
    "    tau_th = th_tau_2d(Res['b'],Res['c'],Res['a'])\n",
    "ax2.errorbar(Res['L'], Res['tau']/tau_th, yerr=Res['tau_err']/tau_th, fmt='o')\n",
    "ax2.axhline(y=1, color='black')\n",
    "ax2.set_ylabel(r\"$\\tau\\ /\\ \\tau_\\operatorname{th}$\")\n",
    "add_params1 = add_params2 = \"\"\n",
    "if target_2D:\n",
    "    add_params1 = r\", $R_\\operatorname{{tol}}={}$\".format(Rtol)\n",
    "    add_params2 = r\", ${:.2f} \\leq a \\leq {:.2f}$\".format(np.min(Res['a']), np.max(Res['a']))\n",
    "    xlabel = r\"$R_\\operatorname{targ}$\"\n",
    "else:\n",
    "    xlabel = r\"$L$\"\n",
    "ax1.set_xlabel(xlabel)\n",
    "ax2.set_xlabel(xlabel)\n",
    "if reset_type == 'poisson':\n",
    "    fig.suptitle(r\"$D={}$, $\\alpha={}$, $\\sigma_{{x_0}}={}$\".format(D, α, σ)+add_params1+(r\", ${} \\leq L \\leq {} \\ \\Rightarrow \\  {:.2f} \\leq b \\leq {:.2f}, {:.2f} \\leq c \\leq {:.2f}$\"+add_params2+\"\\n{} trajectories, $\\Delta t={}$\").format(np.min(Res['L']), np.max(Res['L']), np.min(Res['b']), np.max(Res['b']), np.min(Res['c']), np.max(Res['c']), int(Res['n_traj'].iloc[0]), Δt))\n",
    "elif reset_type == 'per':\n",
    "    fig.suptitle((r\"$D={}$, $T_\\operatorname{{res}}={}$, $\\sigma_{{x_0}}={}$, ${} \\leq L \\leq {} \\ \\Rightarrow \\  {:.2f} \\leq c \\leq {:.2f}$\"+\"\\n{} trajectories\").format(D, rT, σ, np.min(Res['L']), np.max(Res['L']), np.min(Res['c']), np.max(Res['c']), int(Res['n_traj'].iloc[0])))\n",
    "plt.savefig(path+str(i_beg)+\"-summary.pdf\", bbox_inches='tight')\n",
    "plt.show()\n",
    "if tau_th_cache is None:\n",
    "    if not target_2D:\n",
    "        tau_th_cache = th_tau(b, c=th_c(L))\n",
    "    else:\n",
    "        tau_th_cache = th_tau_2d(b, c=th_c(L), a=Rtol/L)"
   ]
  },
  {
   "cell_type": "markdown",
   "metadata": {},
   "source": [
    "---\n",
    "### FPT distrubution for one $L$"
   ]
  },
  {
   "cell_type": "code",
   "execution_count": null,
   "metadata": {},
   "outputs": [],
   "source": [
    "i = 1\n",
    "simul.explicit_lock()\n",
    "first_times = simul['first_times-'+str(i)]\n",
    "n_traj = len(first_times)\n",
    "if simul['n_trajectories'] != n_traj and not target_2D:\n",
    "    print(\"Number of trajectories don't match up !\")\n",
    "L = simul['first_times_xtarg'][i]\n",
    "simul.explicit_unlock()\n",
    "b = L/σ\n",
    "c = th_c(L)\n",
    "if not target_2D:\n",
    "    mfpt_th = L**2/(4*D)*th_tau(b,c)\n",
    "else:\n",
    "    a = Rtol/L\n",
    "    mfpt_th = L**2/(4*D)*th_tau_2d(b,c,a)\n",
    "mfpt = np.mean(first_times)\n",
    "\n",
    "print(\"number of FPT events ≤ 2·Δt : {:.2f}%\".format( np.sum(first_times < 2.1*Δt) / len(first_times) *100 ))\n",
    "\n",
    "def fpt_distrib_title ():\n",
    "    plt.xlabel(\"first passage time\")\n",
    "    if reset_type == 'poisson':\n",
    "        plt.title(r\"FPT distribution for $b={:.2f}$, $c={:.2f}$ ($D={}$, $\\alpha={}$, $\\sigma_{{x_0}}={}$, $L={}$)\".format(b, c, D, α, σ, L))\n",
    "    elif reset_type == 'per':\n",
    "        plt.title(r\"FPT distribution for $b={:.2f}$, $c={:.2f}$ ($D={}$, $T_\\operatorname{{res}}={}$, $\\sigma_{{x_0}}={}$, $L={}$)\".format(b, c, D, rT, σ, L))\n",
    "    plt.legend()"
   ]
  },
  {
   "cell_type": "code",
   "execution_count": null,
   "metadata": {},
   "outputs": [],
   "source": [
    "plt.figure(figsize=(10,4))\n",
    "fpt_max = 10*mfpt_th\n",
    "plt.hist(first_times, bins=20, range=(0,fpt_max), weights=20/fpt_max*np.ones(n_traj)/n_traj, label=\"distribution ({} traj.)\".format(n_traj))\n",
    "plt.axvline(x=mfpt, color='purple', label=\"MFPT = {:.3f}\".format(mfpt))\n",
    "plt.yscale('log')\n",
    "fpt_distrib_title()\n",
    "None"
   ]
  },
  {
   "cell_type": "code",
   "execution_count": null,
   "metadata": {},
   "outputs": [],
   "source": [
    "if reset_type == 'per' and not target_2D:\n",
    "    fpt_max = 0.999*max(3, ceil(2*mfpt_th/rT))*rT\n",
    "    t_th = np.linspace(0, fpt_max, 400)+3e-4\n",
    "    d_th = -( fpt_periodic_survival(t_th+1e-4, rT, b, c) - fpt_periodic_survival(t_th-1e-4, rT, b, c) ) / 2e-4\n",
    "elif reset_type == 'poisson' and not target_2D:\n",
    "    fpt_max = 5*mfpt_th\n",
    "    t_th = np.logspace(log(mfpt_th/20/b), log(fpt_max), 50, base=np.e)\n",
    "    d_th = fpt_poisson_distrib(L, t_th, α, D, σ)\n",
    "else:\n",
    "    fpt_max = 5*mfpt_th\n",
    "    t_th = None\n",
    "\n",
    "def do_fpt_distrib (log=True):\n",
    "    global fpt_max, t_th, d_th\n",
    "    plt.figure(figsize=(12,4))\n",
    "    _,bins,_ = plt.hist(first_times, bins=200, range=(0,fpt_max), weights=200/fpt_max*np.ones(n_traj)/n_traj, label=\"distribution ({} traj.)\".format(n_traj))\n",
    "    plt.axvline(x=mfpt, color='purple', label=\"MFPT (mes.) = {:.3f}\".format(mfpt))\n",
    "    plt.axvline(x=mfpt_th, color='black', label=\"MFPT (th.) = {:.3f}\".format(mfpt_th))\n",
    "    if t_th is not None:\n",
    "        plt.plot(t_th, d_th, label=r\"theoretical distrib.\", color='black', linestyle='dashed', lw=3, alpha=0.6)\n",
    "    if log:\n",
    "        plt.yscale('log')\n",
    "    fpt_distrib_title()\n",
    "    plt.savefig(path+str(i+i_beg)+\"-fpt-\"+(\"log\" if log else \"lin\")+\".pdf\", bbox_inches='tight')\n",
    "\n",
    "do_fpt_distrib(True)\n",
    "do_fpt_distrib(False)"
   ]
  }
 ],
 "metadata": {
  "kernelspec": {
   "display_name": "Python 3",
   "language": "python",
   "name": "python3"
  },
  "language_info": {
   "codemirror_mode": {
    "name": "ipython",
    "version": 3
   },
   "file_extension": ".py",
   "mimetype": "text/x-python",
   "name": "python",
   "nbconvert_exporter": "python",
   "pygments_lexer": "ipython3",
   "version": "3.8.3"
  }
 },
 "nbformat": 4,
 "nbformat_minor": 2
}
