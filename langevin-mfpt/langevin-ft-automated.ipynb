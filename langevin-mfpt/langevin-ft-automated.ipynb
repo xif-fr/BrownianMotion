{
 "cells": [
  {
   "cell_type": "raw",
   "metadata": {},
   "source": [
    "langevin-survival.cpp\n",
    "#undef ENABLE_SURVIVAL_PROBABILITIES_*\n",
    "#define LANGEVIN_OVERDAMPED (or not, in this case set `simul['part_m']`)\n",
    "for best results, use #define FPT_JUMP_ACROSS (but for σ=0, FPT_DEMISPACE is faster)\n",
    "Resetting :\n",
    "• for poissonian resetting, #define ENABLE_POISSON_RESET, and set `simul['reset_rate']` and `reset_type='poisson'`\n",
    "• for periodical resetting, #define ENABLE_PERIODICAL_RESET, and set `simul['reset_period']` and `reset_type='per'`\n",
    "• without resetting, no additional #define, and set `reset_type='none'`"
   ]
  },
  {
   "cell_type": "raw",
   "metadata": {},
   "source": [
    "Δx =  4e-4 pour D=0.02 et Δt=10e-6\n",
    "Δx = 10e-4 pour D=1    et Δt=1e-6"
   ]
  },
  {
   "cell_type": "code",
   "execution_count": null,
   "metadata": {},
   "outputs": [],
   "source": [
    "import numpy as np\n",
    "import pandas as pd\n",
    "import csv\n",
    "import matplotlib.pyplot as plt\n",
    "import pysimul\n",
    "from common import *\n",
    "from math import *"
   ]
  },
  {
   "cell_type": "code",
   "execution_count": null,
   "metadata": {},
   "outputs": [],
   "source": [
    "simul = pysimul.PySimul()\n",
    "simul['T'] = T = 1\n",
    "simul['gamma'] = gamma = 1\n",
    "D = T / gamma\n",
    "part_m = 0\n",
    "#simul['part_m'] = part_m = 0.1\n",
    "reset_type = 'per'\n",
    "#simul['reset_rate'] = α = 5\n",
    "simul['reset_period'] = rT = 0.005\n",
    "simul['x0sigma'] = σ = 0.2\n",
    "path = \"data-periodical-x0var/\""
   ]
  },
  {
   "cell_type": "code",
   "execution_count": null,
   "metadata": {},
   "outputs": [],
   "source": [
    "if reset_type == 'none':\n",
    "    th_fpt_distrib = None # TODO\n",
    "    th_tau = None\n",
    "    th_c = None\n",
    "elif reset_type == 'poisson':\n",
    "    th_fpt_distrib = None\n",
    "    th_tau = fpt_poisson_tau\n",
    "    th_c = lambda L: fpt_poisson_c(α, D, L)\n",
    "elif reset_type == 'per':\n",
    "    th_fpt_distrib = lambda t, b, c: fpt_periodic_disrib(t, rT, b, c)\n",
    "    th_tau = fpt_periodic_tau\n",
    "    th_c = lambda L: fpt_periodic_c(rT, D, L)\n",
    "tau_th_cache = None"
   ]
  },
  {
   "cell_type": "code",
   "execution_count": null,
   "metadata": {},
   "outputs": [],
   "source": [
    "simul.start()"
   ]
  },
  {
   "cell_type": "code",
   "execution_count": null,
   "metadata": {},
   "outputs": [],
   "source": [
    "simul.end()"
   ]
  },
  {
   "cell_type": "code",
   "execution_count": null,
   "metadata": {},
   "outputs": [],
   "source": [
    "simul['n_trajectories']"
   ]
  },
  {
   "cell_type": "code",
   "execution_count": null,
   "metadata": {},
   "outputs": [],
   "source": [
    "simul['pause'] = 0"
   ]
  },
  {
   "cell_type": "markdown",
   "metadata": {},
   "source": [
    "### MFPT saving"
   ]
  },
  {
   "cell_type": "code",
   "execution_count": null,
   "metadata": {},
   "outputs": [],
   "source": [
    "i_beg = 60"
   ]
  },
  {
   "cell_type": "code",
   "execution_count": null,
   "metadata": {},
   "outputs": [],
   "source": [
    "Res = pd.DataFrame()\n",
    "simul.explicit_lock()\n",
    "first_times_xtarg = simul['first_times_xtarg']\n",
    "for i in range(len(first_times_xtarg)):\n",
    "    first_times = simul['first_times-'+str(i)]\n",
    "    path2 = path+str(i+i_beg)\n",
    "    np.savetxt(path2+\"-ft.csv\", first_times, fmt='%.2e')\n",
    "    x_targ = first_times_xtarg[i]\n",
    "    d = {\n",
    "        'D': D,\n",
    "        'T': T,\n",
    "        'gamma': gamma,\n",
    "        'part_m': part_m,\n",
    "        'x0sigma': σ,\n",
    "        'L': x_targ,\n",
    "        'L_err': simul['xtarg_tol'],\n",
    "        'b': x_targ/σ,\n",
    "        'c': th_c(x_targ),\n",
    "        'c_err': th_c(simul['xtarg_tol']),\n",
    "        'mfpt': np.mean(first_times),\n",
    "        'fpt_stdev': np.std(first_times),\n",
    "        'n_traj': len(first_times),\n",
    "        'Delta_t': simul['Delta_t']\n",
    "    }\n",
    "    if reset_type == 'none':\n",
    "        pass\n",
    "    elif reset_type == 'poisson':\n",
    "        d['reset_rate'] = α\n",
    "    elif reset_type == 'per':\n",
    "        d['reset_period'] = rT\n",
    "    df = pd.DataFrame(list(d.items())).set_index(0)\n",
    "    df.to_csv(path2+\"-params.csv\", header=False, quoting=csv.QUOTE_NONE, sep=',')\n",
    "    Res = Res.append(df.T, ignore_index=True, sort=False)\n",
    "simul.explicit_unlock()"
   ]
  },
  {
   "cell_type": "code",
   "execution_count": null,
   "metadata": {},
   "outputs": [],
   "source": [
    "Res['tau'] = 4*Res['D']*Res['mfpt']/Res['L']**2\n",
    "Res['tau_err'] = 4*Res['D']*(Res['fpt_stdev']/np.sqrt(Res['n_traj']))/Res['L']**2\n",
    "\n",
    "fig, (ax1, ax2) = plt.subplots(1,2,figsize=(15,5))\n",
    "L = np.linspace(np.min(Res['L'])*0.95, np.max(Res['L'])*1.05, 80)\n",
    "b = L/σ\n",
    "if tau_th_cache is not None:\n",
    "    ax1.plot(b, tau_th_cache, color='black')\n",
    "ax1.errorbar(Res['b'], Res['tau'], yerr=Res['tau_err'], fmt='.')\n",
    "ax1.set_ylabel(r\"$\\tau$\")\n",
    "ax1.set_xlabel(r\"$b$\")\n",
    "ax2.errorbar(Res['b'], Res['tau']/th_tau(Res['b'],Res['c']), yerr=Res['tau_err']/th_tau(Res['b'],Res['c']), fmt='o')\n",
    "ax2.axhline(y=1, color='black')\n",
    "ax2.set_ylabel(r\"$\\tau\\ /\\ \\tau_\\operatorname{th}$\")\n",
    "ax2.set_xlabel(r\"$b$\")\n",
    "if reset_type == 'poisson':\n",
    "    fig.suptitle(r\"$D={}$, $\\alpha={}$, $\\sigma_{{x_0}}={}$, ${} \\leq L \\leq {} \\quad \\Rightarrow \\quad {:.2f} \\leq c \\leq {:.2f}$\".format(D, α, σ, np.min(Res['L']), np.max(Res['L']), np.min(Res['c']), np.max(Res['c'])))\n",
    "elif reset_type == 'per':\n",
    "    fig.suptitle((r\"$D={}$, $T_\\operatorname{{res}}={}$, $\\sigma_{{x_0}}={}$, ${} \\leq L \\leq {} \\ \\Rightarrow \\  {:.2f} \\leq c \\leq {:.2f}$\"+\"\\n{} trajectories\").format(D, rT, σ, np.min(Res['L']), np.max(Res['L']), np.min(Res['c']), np.max(Res['c']), int(Res['n_traj'].iloc[0])))\n",
    "plt.savefig(path+str(i_beg)+\"-summary.pdf\", bbox_inches='tight')\n",
    "plt.show()\n",
    "if tau_th_cache is None:\n",
    "    tau_th_cache = th_tau(b, c=th_c(L))"
   ]
  },
  {
   "cell_type": "markdown",
   "metadata": {},
   "source": [
    "---\n",
    "### FPT distrubution for one $L$"
   ]
  },
  {
   "cell_type": "code",
   "execution_count": null,
   "metadata": {},
   "outputs": [],
   "source": [
    "i = 6\n",
    "simul.explicit_lock()\n",
    "first_times = simul['first_times-'+str(i)]\n",
    "n_traj = len(first_times)\n",
    "if simul['n_trajectories'] != n_traj:\n",
    "    print(\"Number of trajectories don't match up !\")\n",
    "L = simul['first_times_xtarg'][i]\n",
    "simul.explicit_unlock()\n",
    "b = L/σ\n",
    "c = th_c(L)\n",
    "mfpt_th = L**2/(4*D)*th_tau(b,c)\n",
    "mfpt = np.mean(first_times)"
   ]
  },
  {
   "cell_type": "code",
   "execution_count": null,
   "metadata": {},
   "outputs": [],
   "source": [
    "plt.figure(figsize=(10,4))\n",
    "fpt_max = 2*mfpt_th\n",
    "plt.hist(first_times, bins=50, range=(0,fpt_max), weights=50/fpt_max*np.ones(n_traj)/n_traj, label=\"FPT distribution ({} traj.)\".format(n_traj))\n",
    "plt.axvline(x=mfpt, color='purple', label=\"MFPT (mes.) = {:.3f}\".format(mfpt))\n",
    "plt.axvline(x=mfpt_th, color='black', label=\"MFPT (th.) = {:.3f}\".format(mfpt_th))\n",
    "plt.xlabel(\"first passage time\")\n",
    "#plt.title(r\"FPT distribution for $b={:.3f}$, $c={}$ ($D={}$, $\\alpha={}$, $\\sigma_{{x_0}}={}$, $L={}$)\".format(b, c, D, α, σ, L))\n",
    "plt.legend()\n",
    "None"
   ]
  },
  {
   "cell_type": "code",
   "execution_count": null,
   "metadata": {},
   "outputs": [],
   "source": [
    "plt.figure(figsize=(10,4))\n",
    "fpt_max = 10*mfpt_th\n",
    "plt.hist(first_times, bins=20, range=(0,fpt_max), weights=20/fpt_max*np.ones(n_traj)/n_traj, label=\"distribution ({} traj.)\".format(n_traj))\n",
    "plt.axvline(x=mfpt, color='purple', label=\"MFPT = {:.3f}\".format(mfpt))\n",
    "plt.yscale('log')\n",
    "plt.xlabel(\"first passage time\")\n",
    "plt.legend()\n",
    "None"
   ]
  },
  {
   "cell_type": "code",
   "execution_count": null,
   "metadata": {},
   "outputs": [],
   "source": [
    "if reset_type == 'per':\n",
    "    fpt_max = 0.999*max(3, ceil(2*mfpt_th/rT))*rT\n",
    "    t_th = np.linspace(0, fpt_max, 400)+3e-4\n",
    "    d_th = -( fpt_periodic_survival(t_th+1e-4, rT, b, c) - fpt_periodic_survival(t_th-1e-4, rT, b, c) ) / 2e-4\n",
    "else:\n",
    "    fpt_max = 5*mfpt_th\n",
    "    t_th = None\n",
    "\n",
    "def do_fpt_distrib (log=True):\n",
    "    global fpt_max, t_th, d_th\n",
    "    plt.figure(figsize=(12,4))\n",
    "    _,bins,_ = plt.hist(first_times, bins=200, range=(0,fpt_max), weights=200/fpt_max*np.ones(n_traj)/n_traj, label=\"distribution ({} traj.)\".format(n_traj))\n",
    "    plt.axvline(x=mfpt, color='purple', label=\"MFPT (mes.) = {:.3f}\".format(mfpt))\n",
    "    plt.axvline(x=mfpt_th, color='black', label=\"MFPT (th.) = {:.3f}\".format(mfpt_th))\n",
    "    if t_th is not None:\n",
    "        plt.plot(t_th, d_th, label=r\"theoretical distrib.\", color='black', linestyle='dashed', lw=3, alpha=0.6)\n",
    "    if log:\n",
    "        plt.yscale('log')\n",
    "    plt.xlabel(\"first passage time\")\n",
    "    plt.legend()\n",
    "    plt.savefig(path+str(i+i_beg)+\"-fpt-\"+(\"log\" if log else \"lin\")+\".pdf\", bbox_inches='tight')\n",
    "\n",
    "do_fpt_distrib(True)\n",
    "do_fpt_distrib(False)"
   ]
  }
 ],
 "metadata": {
  "kernelspec": {
   "display_name": "Python 3",
   "language": "python",
   "name": "python3"
  },
  "language_info": {
   "codemirror_mode": {
    "name": "ipython",
    "version": 3
   },
   "file_extension": ".py",
   "mimetype": "text/x-python",
   "name": "python",
   "nbconvert_exporter": "python",
   "pygments_lexer": "ipython3",
   "version": "3.6.5"
  }
 },
 "nbformat": 4,
 "nbformat_minor": 2
}
