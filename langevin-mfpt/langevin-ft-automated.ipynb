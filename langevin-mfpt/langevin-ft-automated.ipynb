{
 "cells": [
  {
   "cell_type": "code",
   "execution_count": null,
   "metadata": {},
   "outputs": [],
   "source": [
    "import numpy as np\n",
    "import pandas as pd\n",
    "import csv\n",
    "import matplotlib.pyplot as plt\n",
    "import pysimul\n",
    "from math import *\n",
    "π = np.pi"
   ]
  },
  {
   "cell_type": "code",
   "execution_count": null,
   "metadata": {},
   "outputs": [],
   "source": [
    "simul = pysimul.PySimul()\n",
    "simul['T'] = T = 10\n",
    "simul['gamma'] = gamma = 500\n",
    "D = T / gamma\n",
    "simul['part_m'] = part_m = 0.1\n",
    "simul['reset_rate'] = α = 1\n",
    "simul['x0sigma'] = σ = 0.1"
   ]
  },
  {
   "cell_type": "code",
   "execution_count": null,
   "metadata": {},
   "outputs": [],
   "source": [
    "simul.start()"
   ]
  },
  {
   "cell_type": "code",
   "execution_count": null,
   "metadata": {},
   "outputs": [],
   "source": [
    "simul.end()"
   ]
  },
  {
   "cell_type": "code",
   "execution_count": null,
   "metadata": {},
   "outputs": [],
   "source": [
    "simul['n_trajectories']"
   ]
  },
  {
   "cell_type": "code",
   "execution_count": null,
   "metadata": {},
   "outputs": [],
   "source": [
    "simul['pause'] = 1"
   ]
  },
  {
   "cell_type": "code",
   "execution_count": null,
   "metadata": {},
   "outputs": [],
   "source": [
    "i_beg = 0"
   ]
  },
  {
   "cell_type": "code",
   "execution_count": null,
   "metadata": {},
   "outputs": [],
   "source": [
    "simul.explicit_lock()\n",
    "first_times_xtarg = simul['first_times_xtarg']\n",
    "for i in range(len(first_times_xtarg)):\n",
    "    first_times = simul['first_times-'+str(i)]\n",
    "    path = \"langevin-reset-x0var/\"+str(i+i_beg)\n",
    "    np.savetxt(path+\"-ft.csv\", first_times, fmt='%.2e')\n",
    "    x_targ = first_times_xtarg[i]\n",
    "    pd.DataFrame(list({\n",
    "        'D': D,\n",
    "        'T': T,\n",
    "        'gamma': gamma,\n",
    "        'part_m': part_m,\n",
    "        'reset_rate': α,\n",
    "        'x0sigma': σ,\n",
    "        'L': x_targ,\n",
    "        'b': x_targ/σ,\n",
    "        'c': sqrt(α/D)*x_targ,\n",
    "        'mfpt': np.mean(first_times),\n",
    "        'fpt_stdev': np.std(first_times),\n",
    "        'n_traj': len(first_times),\n",
    "        'Delta_t': simul['Delta_t']\n",
    "    }.items())).set_index(0).to_csv(path+\"-params.csv\", header=False, quoting=csv.QUOTE_NONE, sep=',')\n",
    "simul.explicit_unlock()"
   ]
  },
  {
   "cell_type": "code",
   "execution_count": null,
   "metadata": {},
   "outputs": [],
   "source": [
    "first_times = simul['first_times-9']\n",
    "mfpt = np.mean(first_times)\n",
    "n_traj = len(first_times)\n",
    "\n",
    "plt.figure(figsize=(10,4))\n",
    "plt.hist(first_times, bins=50, range=(0,20), weights=50/20*np.ones(n_traj)/n_traj, label=\"FPT distribution ({} traj.)\".format(n_traj))\n",
    "plt.axvline(x=mfpt, color='purple', label=\"MFPT (trunc.) = {:.3f}\".format(mfpt))\n",
    "plt.xlabel(\"first passage time\")\n",
    "plt.legend()\n",
    "#plt.savefig(path+\"-detail-fpt.pdf\", bbox_inches='tight')\n",
    "\n",
    "plt.figure(figsize=(10,4))\n",
    "plt.hist(first_times, bins=20, range=(0,100), weights=20/70*np.ones(n_traj)/n_traj, label=\"distribution ({} traj.)\".format(n_traj))\n",
    "plt.axvline(x=mfpt, color='purple', label=\"MFPT (trunc.) = {:.3f}\".format(mfpt))\n",
    "plt.yscale('log')\n",
    "plt.xlabel(\"first passage time\")\n",
    "plt.legend()\n",
    "#plt.savefig(path+\"-broad-fpt.pdf\", bbox_inches='tight')"
   ]
  }
 ],
 "metadata": {
  "kernelspec": {
   "display_name": "Python 3",
   "language": "python",
   "name": "python3"
  },
  "language_info": {
   "codemirror_mode": {
    "name": "ipython",
    "version": 3
   },
   "file_extension": ".py",
   "mimetype": "text/x-python",
   "name": "python",
   "nbconvert_exporter": "python",
   "pygments_lexer": "ipython3",
   "version": "3.6.5"
  }
 },
 "nbformat": 4,
 "nbformat_minor": 2
}
