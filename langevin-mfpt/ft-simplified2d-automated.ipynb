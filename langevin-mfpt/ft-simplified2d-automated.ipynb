{
 "cells": [
  {
   "cell_type": "raw",
   "metadata": {},
   "source": [
    "langevin-survival-simplified-2d.cpp"
   ]
  },
  {
   "cell_type": "code",
   "execution_count": 1,
   "metadata": {},
   "outputs": [],
   "source": [
    "# [1]\n",
    "import numpy as np\n",
    "import pandas as pd\n",
    "import csv\n",
    "import matplotlib.pyplot as plt\n",
    "import pysimul\n",
    "from common import *\n",
    "from math import *"
   ]
  },
  {
   "cell_type": "code",
   "execution_count": 2,
   "metadata": {},
   "outputs": [],
   "source": [
    "# [2]\n",
    "reset_type = 'per'\n",
    "path = \"data-2d-periodical-x0var/\"\n",
    "i_beg = 400\n",
    "i_file = []\n",
    "param_i = 0"
   ]
  },
  {
   "cell_type": "code",
   "execution_count": 3,
   "metadata": {},
   "outputs": [],
   "source": [
    "# [3]\n",
    "simul = pysimul.PySimul()\n",
    "simul['D'] = D = 1\n",
    "#simul['reset_rate'] = α = [140**2, 100**2, 70**2, 50**2, 30**2][param_i]\n",
    "simul['reset_period'] = rT = [0.01, 0.03, 0.07, 0.1][param_i]\n",
    "simul['xtarg'] = L = 0.1\n",
    "a = 0.5\n",
    "b = 2\n",
    "simul['x0sigma_x'] = σ_x = L / b\n",
    "aniso = 1\n",
    "simul['x0sigma_y'] = σ_y = aniso * σ_x\n",
    "simul['2D-Rtol'] = Rtol = a * L\n",
    "simul.start()\n",
    "\n",
    "plot_th_tau = False\n",
    "if reset_type == 'poisson':\n",
    "    th_tau_2d = fpt_2d_poisson_tau\n",
    "    th_c = lambda L: fpt_poisson_c(α, D, L)\n",
    "elif reset_type == 'per':\n",
    "    th_tau_2d = fpt_2d_periodical_tau\n",
    "    th_c = lambda L: fpt_periodic_c(rT, D, L)\n",
    "param_i += 1\n",
    "ended = False"
   ]
  },
  {
   "cell_type": "code",
   "execution_count": 4,
   "metadata": {},
   "outputs": [],
   "source": [
    "# [4]\n",
    "def timer_f ():\n",
    "    global simul, ended\n",
    "    if simul is None:\n",
    "        return 1\n",
    "    if simul['n_trajectories'] >= 100000 and not ended:\n",
    "        ended = True\n",
    "        return 2\n",
    "    return 0"
   ]
  },
  {
   "cell_type": "code",
   "execution_count": 5,
   "metadata": {},
   "outputs": [
    {
     "data": {
      "application/javascript": [
       "var sfml_event_poll_timer = setInterval(function() {\n",
       "    Jupyter.notebook.kernel.execute(\"print(timer_f())\", { iopub : { output : function (data) {\n",
       "        console.log(data.content.text)\n",
       "        if (data.content.text == \"1\\n\" || data.content.text === undefined) {\n",
       "            clearInterval(sfml_event_poll_timer);\n",
       "        } else if (data.content.text == \"2\\n\") {\n",
       "            Jupyter.notebook.execute_cells([7,8,9,3]);\n",
       "        }\n",
       "    }}})\n",
       "}, 4000);\n"
      ],
      "text/plain": [
       "<IPython.core.display.Javascript object>"
      ]
     },
     "metadata": {},
     "output_type": "display_data"
    }
   ],
   "source": [
    "%%javascript\n",
    "var sfml_event_poll_timer = setInterval(function() {\n",
    "    Jupyter.notebook.kernel.execute(\"print(timer_f())\", { iopub : { output : function (data) {\n",
    "        console.log(data.content.text)\n",
    "        if (data.content.text == \"1\\n\" || data.content.text === undefined) {\n",
    "            clearInterval(sfml_event_poll_timer);\n",
    "        } else if (data.content.text == \"2\\n\") {\n",
    "            Jupyter.notebook.execute_cells([7,8,9,3]);\n",
    "        }\n",
    "    }}})\n",
    "}, 4000);"
   ]
  },
  {
   "cell_type": "code",
   "execution_count": 22,
   "metadata": {},
   "outputs": [
    {
     "data": {
      "text/plain": [
       "(0, 10048)"
      ]
     },
     "execution_count": 22,
     "metadata": {},
     "output_type": "execute_result"
    }
   ],
   "source": [
    "# [6]\n",
    "param_i-1, simul['n_trajectories']"
   ]
  },
  {
   "cell_type": "code",
   "execution_count": 23,
   "metadata": {},
   "outputs": [
    {
     "data": {
      "text/html": [
       "<div>\n",
       "<style scoped>\n",
       "    .dataframe tbody tr th:only-of-type {\n",
       "        vertical-align: middle;\n",
       "    }\n",
       "\n",
       "    .dataframe tbody tr th {\n",
       "        vertical-align: top;\n",
       "    }\n",
       "\n",
       "    .dataframe thead th {\n",
       "        text-align: right;\n",
       "    }\n",
       "</style>\n",
       "<table border=\"1\" class=\"dataframe\">\n",
       "  <thead>\n",
       "    <tr style=\"text-align: right;\">\n",
       "      <th></th>\n",
       "      <th>D</th>\n",
       "      <th>part_m</th>\n",
       "      <th>x0sigma_x</th>\n",
       "      <th>x0sigma_y</th>\n",
       "      <th>L</th>\n",
       "      <th>b</th>\n",
       "      <th>c</th>\n",
       "      <th>mfpt</th>\n",
       "      <th>fpt_stdev</th>\n",
       "      <th>n_traj</th>\n",
       "      <th>Delta_t</th>\n",
       "      <th>Rtol</th>\n",
       "      <th>a</th>\n",
       "      <th>reset_period</th>\n",
       "    </tr>\n",
       "  </thead>\n",
       "  <tbody>\n",
       "    <tr>\n",
       "      <th>1</th>\n",
       "      <td>1.0</td>\n",
       "      <td>0.0</td>\n",
       "      <td>0.05</td>\n",
       "      <td>0.05</td>\n",
       "      <td>0.1</td>\n",
       "      <td>2.0</td>\n",
       "      <td>0.5</td>\n",
       "      <td>0.011486</td>\n",
       "      <td>0.013691</td>\n",
       "      <td>10107.0</td>\n",
       "      <td>1.000000e-07</td>\n",
       "      <td>0.05</td>\n",
       "      <td>0.5</td>\n",
       "      <td>0.01</td>\n",
       "    </tr>\n",
       "  </tbody>\n",
       "</table>\n",
       "</div>"
      ],
      "text/plain": [
       "0    D  part_m  x0sigma_x  x0sigma_y    L    b    c      mfpt  fpt_stdev  \\\n",
       "1  1.0     0.0       0.05       0.05  0.1  2.0  0.5  0.011486   0.013691   \n",
       "\n",
       "0   n_traj       Delta_t  Rtol    a  reset_period  \n",
       "1  10107.0  1.000000e-07  0.05  0.5          0.01  "
      ]
     },
     "execution_count": 23,
     "metadata": {},
     "output_type": "execute_result"
    }
   ],
   "source": [
    "# [7]\n",
    "simul.explicit_lock()\n",
    "Δt = simul['Delta_t']\n",
    "\n",
    "first_times = simul['first_times']\n",
    "n_traj = len(first_times)\n",
    "mfpt = np.mean(first_times)\n",
    "\n",
    "if i_beg is None: path2 = path+str(i_file[param_i-1])\n",
    "else:             path2 = path+str(i_beg+param_i-1)\n",
    "np.savetxt(path2+\"-ft.csv\", first_times, fmt='%.4e')\n",
    "d = {\n",
    "    'D': D,\n",
    "    'part_m': 0,\n",
    "    'x0sigma_x': σ_x,\n",
    "    'x0sigma_y': σ_y,\n",
    "    'L': L,\n",
    "    'b': L/σ_x,\n",
    "    'c': th_c(L),\n",
    "    'mfpt': mfpt,\n",
    "    'fpt_stdev': np.std(first_times),\n",
    "    'n_traj': len(first_times),\n",
    "    'Delta_t': Δt,\n",
    "    'Rtol': Rtol,\n",
    "    'a': a\n",
    "}\n",
    "if reset_type == 'poisson':\n",
    "    d['reset_rate'] = α\n",
    "elif reset_type == 'per':\n",
    "    d['reset_period'] = rT\n",
    "\n",
    "df = pd.DataFrame(list(d.items())).set_index(0)\n",
    "df.to_csv(path2+\"-params.csv\", header=False, quoting=csv.QUOTE_NONE, sep=',')\n",
    "simul.explicit_unlock()\n",
    "df.T"
   ]
  },
  {
   "cell_type": "code",
   "execution_count": 24,
   "metadata": {},
   "outputs": [
    {
     "data": {
      "image/png": "[encoded data removed]",
      "text/plain": [
       "<Figure size 720x288 with 1 Axes>"
      ]
     },
     "metadata": {
      "needs_background": "light"
     },
     "output_type": "display_data"
    }
   ],
   "source": [
    "# [8]\n",
    "c = th_c(L)\n",
    "\n",
    "plt.figure(figsize=(10,4))\n",
    "fpt_max = 5*mfpt\n",
    "plt.hist(first_times, bins=100, range=(0,fpt_max), weights=100/fpt_max*np.ones(n_traj)/n_traj, label=\"distribution ({} traj.)\".format(n_traj))\n",
    "plt.axvline(x=mfpt, color='purple', label=\"MFPT = {:.3f}\".format(mfpt))\n",
    "if plot_th_tau:\n",
    "    mfpt_th = L**2/(4*D)*th_tau_2d(b,c,a)\n",
    "    plt.axvline(x=mfpt_th, color='black', label=\"th. MFPT = {:.3f}\".format(mfpt_th))\n",
    "plt.yscale('log')\n",
    "plt.xlabel(\"first passage time\")\n",
    "if reset_type == 'poisson':\n",
    "    plt.title(r\"FPT distribution for $b={:.2f}$, $c={:.2f}$ ($D={}$, $\\alpha={}$, $\\sigma_{{x_0}}={:.3f}$, $\\sigma_{{y_0}}={:.3f}$, $L={}$)\".format(b, c, D, α, σ_x, σ_y, L))\n",
    "elif reset_type == 'per':\n",
    "    plt.title(r\"FPT distribution for $b={:.2f}$, $c={:.2f}$ ($D={}$, $T_\\operatorname{{res}}={}$, $\\sigma_{{x_0}}={:.3f}$, $\\sigma_{{y_0}}={:.3f}$, $L={}$)\".format(b, c, D, rT, σ_x, σ_y, L))\n",
    "plt.legend()\n",
    "plt.savefig(path2+\"-distrib.pdf\", bbox_inches='tight')"
   ]
  },
  {
   "cell_type": "code",
   "execution_count": 62,
   "metadata": {},
   "outputs": [],
   "source": [
    "# [9]\n",
    "simul.end()"
   ]
  },
  {
   "cell_type": "code",
   "execution_count": 82,
   "metadata": {},
   "outputs": [],
   "source": [
    "simul['pause'] = 0"
   ]
  }
 ],
 "metadata": {
  "kernelspec": {
   "display_name": "Python 3",
   "language": "python",
   "name": "python3"
  },
  "language_info": {
   "codemirror_mode": {
    "name": "ipython",
    "version": 3
   },
   "file_extension": ".py",
   "mimetype": "text/x-python",
   "name": "python",
   "nbconvert_exporter": "python",
   "pygments_lexer": "ipython3",
   "version": "3.9.1"
  }
 },
 "nbformat": 4,
 "nbformat_minor": 2
}
