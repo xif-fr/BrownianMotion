{
 "cells": [
  {
   "cell_type": "raw",
   "metadata": {},
   "source": [
    "langevin-survival-simplified-2d.cpp"
   ]
  },
  {
   "cell_type": "code",
   "execution_count": 1,
   "metadata": {},
   "outputs": [],
   "source": [
    "# [1]\n",
    "import numpy as np\n",
    "import pandas as pd\n",
    "import csv\n",
    "import matplotlib.pyplot as plt\n",
    "import pysimul\n",
    "from common import *\n",
    "from math import *"
   ]
  },
  {
   "cell_type": "code",
   "execution_count": 2,
   "metadata": {},
   "outputs": [],
   "source": [
    "# [2]\n",
    "reset_type = 'poisson'\n",
    "path = \"data-2d-poisson-x0var/\"\n",
    "i_beg = 0\n",
    "param_i = 0"
   ]
  },
  {
   "cell_type": "code",
   "execution_count": 33,
   "metadata": {},
   "outputs": [],
   "source": [
    "# [3]\n",
    "simul = pysimul.PySimul()\n",
    "simul['D'] = D = 1\n",
    "simul['reset_rate'] = α = 25\n",
    "#simul['reset_period'] = rT = 0.002\n",
    "simul['x0sigma'] = σ = [0, 0.015, 0.02, 0.05, 0.1, 0.2, 0.5][param_i]\n",
    "simul['2D-Rtol'] = Rtol = 0.05\n",
    "simul.start()\n",
    "\n",
    "if reset_type == 'poisson':\n",
    "    th_tau_2d = fpt_2d_poisson_tau\n",
    "    th_c = lambda L: fpt_poisson_c(α, D, L)\n",
    "elif reset_type == 'per':\n",
    "    th_tau_2d = None\n",
    "    th_c = lambda L: fpt_periodic_c(rT, D, L)\n",
    "param_i += 1\n",
    "ended = False"
   ]
  },
  {
   "cell_type": "code",
   "execution_count": 4,
   "metadata": {},
   "outputs": [],
   "source": [
    "# [4]\n",
    "def timer_f ():\n",
    "    global simul, ended\n",
    "    if simul is None:\n",
    "        return 1\n",
    "    if simul['n_trajectories'] >= 10000 and not ended:\n",
    "        ended = True\n",
    "        return 2\n",
    "    return 0"
   ]
  },
  {
   "cell_type": "code",
   "execution_count": 5,
   "metadata": {},
   "outputs": [
    {
     "data": {
      "application/javascript": [
       "var sfml_event_poll_timer = setInterval(function() {\n",
       "    Jupyter.notebook.kernel.execute(\"print(timer_f())\", { iopub : { output : function (data) {\n",
       "        console.log(data.content.text)\n",
       "        if (data.content.text == \"1\\n\" || data.content.text === undefined) {\n",
       "            clearInterval(sfml_event_poll_timer);\n",
       "        } else if (data.content.text == \"2\\n\") {\n",
       "            Jupyter.notebook.execute_cells([7,8,9,3]);\n",
       "        }\n",
       "    }}})\n",
       "}, 2000);\n"
      ],
      "text/plain": [
       "<IPython.core.display.Javascript object>"
      ]
     },
     "metadata": {},
     "output_type": "display_data"
    }
   ],
   "source": [
    "%%javascript\n",
    "var sfml_event_poll_timer = setInterval(function() {\n",
    "    Jupyter.notebook.kernel.execute(\"print(timer_f())\", { iopub : { output : function (data) {\n",
    "        console.log(data.content.text)\n",
    "        if (data.content.text == \"1\\n\" || data.content.text === undefined) {\n",
    "            clearInterval(sfml_event_poll_timer);\n",
    "        } else if (data.content.text == \"2\\n\") {\n",
    "            Jupyter.notebook.execute_cells([7,8,9,3]);\n",
    "        }\n",
    "    }}})\n",
    "}, 2000);"
   ]
  },
  {
   "cell_type": "code",
   "execution_count": 29,
   "metadata": {},
   "outputs": [
    {
     "data": {
      "text/plain": [
       "(5, 7674)"
      ]
     },
     "execution_count": 29,
     "metadata": {},
     "output_type": "execute_result"
    }
   ],
   "source": [
    "# [6]\n",
    "param_i-1, simul['n_trajectories']"
   ]
  },
  {
   "cell_type": "code",
   "execution_count": 30,
   "metadata": {},
   "outputs": [
    {
     "data": {
      "text/html": [
       "<div>\n",
       "<style scoped>\n",
       "    .dataframe tbody tr th:only-of-type {\n",
       "        vertical-align: middle;\n",
       "    }\n",
       "\n",
       "    .dataframe tbody tr th {\n",
       "        vertical-align: top;\n",
       "    }\n",
       "\n",
       "    .dataframe thead th {\n",
       "        text-align: right;\n",
       "    }\n",
       "</style>\n",
       "<table border=\"1\" class=\"dataframe\">\n",
       "  <thead>\n",
       "    <tr style=\"text-align: right;\">\n",
       "      <th></th>\n",
       "      <th>D</th>\n",
       "      <th>part_m</th>\n",
       "      <th>x0sigma</th>\n",
       "      <th>L</th>\n",
       "      <th>b</th>\n",
       "      <th>c</th>\n",
       "      <th>mfpt</th>\n",
       "      <th>fpt_stdev</th>\n",
       "      <th>n_traj</th>\n",
       "      <th>Delta_t</th>\n",
       "      <th>Rtol</th>\n",
       "      <th>a</th>\n",
       "      <th>reset_rate</th>\n",
       "    </tr>\n",
       "  </thead>\n",
       "  <tbody>\n",
       "    <tr>\n",
       "      <th>1</th>\n",
       "      <td>1.0</td>\n",
       "      <td>0.0</td>\n",
       "      <td>0.2</td>\n",
       "      <td>0.2</td>\n",
       "      <td>1.0</td>\n",
       "      <td>1.0</td>\n",
       "      <td>0.156585</td>\n",
       "      <td>0.176238</td>\n",
       "      <td>10017.0</td>\n",
       "      <td>0.000001</td>\n",
       "      <td>0.05</td>\n",
       "      <td>0.25</td>\n",
       "      <td>25.0</td>\n",
       "    </tr>\n",
       "  </tbody>\n",
       "</table>\n",
       "</div>"
      ],
      "text/plain": [
       "0    D  part_m  x0sigma    L    b    c      mfpt  fpt_stdev   n_traj  \\\n",
       "1  1.0     0.0      0.2  0.2  1.0  1.0  0.156585   0.176238  10017.0   \n",
       "\n",
       "0   Delta_t  Rtol     a  reset_rate  \n",
       "1  0.000001  0.05  0.25        25.0  "
      ]
     },
     "execution_count": 30,
     "metadata": {},
     "output_type": "execute_result"
    }
   ],
   "source": [
    "# [7]\n",
    "simul.explicit_lock()\n",
    "Rtarg = simul['first_times_xtarg'][0]\n",
    "Δt = simul['Delta_t']\n",
    "\n",
    "first_times = simul['first_times-0']\n",
    "n_traj = len(first_times)\n",
    "mfpt = np.mean(first_times)\n",
    "\n",
    "path2 = path+str(i_beg+param_i)\n",
    "np.savetxt(path2+\"-ft.csv\", first_times, fmt='%.2e')\n",
    "d = {\n",
    "    'D': D,\n",
    "    'part_m': 0,\n",
    "    'x0sigma': σ,\n",
    "    'L': Rtarg,\n",
    "    'b': Rtarg/σ,\n",
    "    'c': th_c(Rtarg),\n",
    "    'mfpt': mfpt,\n",
    "    'fpt_stdev': np.std(first_times),\n",
    "    'n_traj': len(first_times),\n",
    "    'Delta_t': Δt,\n",
    "    'Rtol': Rtol,\n",
    "    'a': Rtol / Rtarg\n",
    "}\n",
    "if reset_type == 'poisson':\n",
    "    d['reset_rate'] = α\n",
    "elif reset_type == 'per':\n",
    "    d['reset_period'] = rT\n",
    "\n",
    "df = pd.DataFrame(list(d.items())).set_index(0)\n",
    "df.to_csv(path2+\"-params.csv\", header=False, quoting=csv.QUOTE_NONE, sep=',')\n",
    "simul.explicit_unlock()\n",
    "df.T"
   ]
  },
  {
   "cell_type": "code",
   "execution_count": 31,
   "metadata": {},
   "outputs": [
    {
     "data": {
      "text/plain": [
       "<matplotlib.legend.Legend at 0x7f41f6ac1c70>"
      ]
     },
     "execution_count": 31,
     "metadata": {},
     "output_type": "execute_result"
    },
    {
     "data": {
      "image/png": "[encoded data removed]",
      "text/plain": [
       "<Figure size 720x288 with 1 Axes>"
      ]
     },
     "metadata": {
      "needs_background": "light"
     },
     "output_type": "display_data"
    }
   ],
   "source": [
    "# [8]\n",
    "b = Rtarg/σ\n",
    "c = th_c(Rtarg)\n",
    "a = Rtol/Rtarg\n",
    "mfpt_th = Rtarg**2/(4*D)*th_tau_2d(b,c,a)\n",
    "\n",
    "plt.figure(figsize=(10,4))\n",
    "fpt_max = 5*mfpt_th\n",
    "plt.hist(first_times, bins=100, range=(0,fpt_max), weights=100/fpt_max*np.ones(n_traj)/n_traj, label=\"distribution ({} traj.)\".format(n_traj))\n",
    "plt.axvline(x=mfpt, color='purple', label=\"MFPT = {:.3f}\".format(mfpt))\n",
    "plt.yscale('log')\n",
    "plt.xlabel(\"first passage time\")\n",
    "if reset_type == 'poisson':\n",
    "    plt.title(r\"FPT distribution for $b={:.2f}$, $c={:.2f}$ ($D={}$, $\\alpha={}$, $\\sigma_{{x_0}}={}$, $L={}$)\".format(b, c, D, α, σ, Rtarg))\n",
    "elif reset_type == 'per':\n",
    "    plt.title(r\"FPT distribution for $b={:.2f}$, $c={:.2f}$ ($D={}$, $T_\\operatorname{{res}}={}$, $\\sigma_{{x_0}}={}$, $L={}$)\".format(b, c, D, rT, σ, Rtarg))\n",
    "plt.legend()"
   ]
  },
  {
   "cell_type": "code",
   "execution_count": 32,
   "metadata": {},
   "outputs": [],
   "source": [
    "# [9]\n",
    "simul.end()"
   ]
  },
  {
   "cell_type": "code",
   "execution_count": 7,
   "metadata": {},
   "outputs": [],
   "source": [
    "simul['pause'] = 1"
   ]
  }
 ],
 "metadata": {
  "kernelspec": {
   "display_name": "Python 3",
   "language": "python",
   "name": "python3"
  },
  "language_info": {
   "codemirror_mode": {
    "name": "ipython",
    "version": 3
   },
   "file_extension": ".py",
   "mimetype": "text/x-python",
   "name": "python",
   "nbconvert_exporter": "python",
   "pygments_lexer": "ipython3",
   "version": "3.8.3"
  }
 },
 "nbformat": 4,
 "nbformat_minor": 2
}
