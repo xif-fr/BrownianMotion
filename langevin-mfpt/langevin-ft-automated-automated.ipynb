{
 "cells": [
  {
   "cell_type": "raw",
   "metadata": {},
   "source": [
    "langevin-survival-simplified-2d.cpp"
   ]
  },
  {
   "cell_type": "code",
   "execution_count": null,
   "metadata": {},
   "outputs": [],
   "source": [
    "# [1]\n",
    "import numpy as np\n",
    "import pandas as pd\n",
    "import csv\n",
    "import matplotlib.pyplot as plt\n",
    "import pysimul\n",
    "from common import *\n",
    "from math import *"
   ]
  },
  {
   "cell_type": "code",
   "execution_count": null,
   "metadata": {},
   "outputs": [],
   "source": [
    "# [2]\n",
    "reset_type = 'poisson'\n",
    "path = \"data-2d-poisson-x0var-ter/\"\n",
    "i_beg = 800\n",
    "param_i = 0"
   ]
  },
  {
   "cell_type": "code",
   "execution_count": null,
   "metadata": {},
   "outputs": [],
   "source": [
    "# [3]\n",
    "simul = pysimul.PySimul()\n",
    "simul['D'] = D = 1\n",
    "simul['reset_rate'] = α = [140**2, 100**2, 70**2, 50**2, 30**2][param_i]\n",
    "#simul['reset_period'] = rT = 0.002\n",
    "simul['x0sigma'] = σ = 0.2/6\n",
    "simul['2D-Rtol'] = Rtol = 0.1\n",
    "simul.start()\n",
    "\n",
    "if reset_type == 'poisson':\n",
    "    th_tau_2d = fpt_2d_poisson_tau\n",
    "    th_c = lambda L: fpt_poisson_c(α, D, L)\n",
    "elif reset_type == 'per':\n",
    "    th_tau_2d = None\n",
    "    th_c = lambda L: fpt_periodic_c(rT, D, L)\n",
    "param_i += 1\n",
    "ended = False"
   ]
  },
  {
   "cell_type": "code",
   "execution_count": null,
   "metadata": {},
   "outputs": [],
   "source": [
    "# [4]\n",
    "def timer_f ():\n",
    "    global simul, ended\n",
    "    if simul is None:\n",
    "        return 1\n",
    "    if simul['n_trajectories'] >= 20000 and not ended:\n",
    "        ended = True\n",
    "        return 2\n",
    "    return 0"
   ]
  },
  {
   "cell_type": "code",
   "execution_count": null,
   "metadata": {},
   "outputs": [],
   "source": [
    "%%javascript\n",
    "var sfml_event_poll_timer = setInterval(function() {\n",
    "    Jupyter.notebook.kernel.execute(\"print(timer_f())\", { iopub : { output : function (data) {\n",
    "        console.log(data.content.text)\n",
    "        if (data.content.text == \"1\\n\" || data.content.text === undefined) {\n",
    "            clearInterval(sfml_event_poll_timer);\n",
    "        } else if (data.content.text == \"2\\n\") {\n",
    "            Jupyter.notebook.execute_cells([7,8,9,3]);\n",
    "        }\n",
    "    }}})\n",
    "}, 4000);"
   ]
  },
  {
   "cell_type": "code",
   "execution_count": null,
   "metadata": {},
   "outputs": [],
   "source": [
    "# [6]\n",
    "param_i-1, simul['n_trajectories']"
   ]
  },
  {
   "cell_type": "code",
   "execution_count": null,
   "metadata": {},
   "outputs": [],
   "source": [
    "# [7]\n",
    "simul.explicit_lock()\n",
    "Rtarg = simul['first_times_xtarg'][0]\n",
    "Δt = simul['Delta_t']\n",
    "\n",
    "first_times = simul['first_times-0']\n",
    "n_traj = len(first_times)\n",
    "mfpt = np.mean(first_times)\n",
    "\n",
    "path2 = path+str(i_beg+param_i)\n",
    "np.savetxt(path2+\"-ft.csv\", first_times, fmt='%.2e')\n",
    "d = {\n",
    "    'D': D,\n",
    "    'part_m': 0,\n",
    "    'x0sigma': σ,\n",
    "    'L': Rtarg,\n",
    "    'b': Rtarg/σ,\n",
    "    'c': th_c(Rtarg),\n",
    "    'mfpt': mfpt,\n",
    "    'fpt_stdev': np.std(first_times),\n",
    "    'n_traj': len(first_times),\n",
    "    'Delta_t': Δt,\n",
    "    'Rtol': Rtol,\n",
    "    'a': Rtol / Rtarg\n",
    "}\n",
    "if reset_type == 'poisson':\n",
    "    d['reset_rate'] = α\n",
    "elif reset_type == 'per':\n",
    "    d['reset_period'] = rT\n",
    "\n",
    "df = pd.DataFrame(list(d.items())).set_index(0)\n",
    "df.to_csv(path2+\"-params.csv\", header=False, quoting=csv.QUOTE_NONE, sep=',')\n",
    "simul.explicit_unlock()\n",
    "df.T"
   ]
  },
  {
   "cell_type": "code",
   "execution_count": null,
   "metadata": {},
   "outputs": [],
   "source": [
    "# [8]\n",
    "b = Rtarg/σ\n",
    "c = th_c(Rtarg)\n",
    "a = Rtol/Rtarg\n",
    "mfpt_th = Rtarg**2/(4*D)*th_tau_2d(b,c,a)\n",
    "\n",
    "plt.figure(figsize=(10,4))\n",
    "fpt_max = 5*mfpt_th\n",
    "plt.hist(first_times, bins=100, range=(0,fpt_max), weights=100/fpt_max*np.ones(n_traj)/n_traj, label=\"distribution ({} traj.)\".format(n_traj))\n",
    "plt.axvline(x=mfpt, color='purple', label=\"MFPT = {:.3f}\".format(mfpt))\n",
    "plt.yscale('log')\n",
    "plt.xlabel(\"first passage time\")\n",
    "if reset_type == 'poisson':\n",
    "    plt.title(r\"FPT distribution for $b={:.2f}$, $c={:.2f}$ ($D={}$, $\\alpha={}$, $\\sigma_{{x_0}}={}$, $L={}$)\".format(b, c, D, α, σ, Rtarg))\n",
    "elif reset_type == 'per':\n",
    "    plt.title(r\"FPT distribution for $b={:.2f}$, $c={:.2f}$ ($D={}$, $T_\\operatorname{{res}}={}$, $\\sigma_{{x_0}}={}$, $L={}$)\".format(b, c, D, rT, σ, Rtarg))\n",
    "plt.legend()\n",
    "plt.savefig(path2+\"-distrib.pdf\", bbox_inches='tight')"
   ]
  },
  {
   "cell_type": "code",
   "execution_count": null,
   "metadata": {},
   "outputs": [],
   "source": [
    "# [9]\n",
    "simul.end()"
   ]
  },
  {
   "cell_type": "code",
   "execution_count": null,
   "metadata": {},
   "outputs": [],
   "source": [
    "simul['pause'] = 1"
   ]
  }
 ],
 "metadata": {
  "kernelspec": {
   "display_name": "Python 3",
   "language": "python",
   "name": "python3"
  },
  "language_info": {
   "codemirror_mode": {
    "name": "ipython",
    "version": 3
   },
   "file_extension": ".py",
   "mimetype": "text/x-python",
   "name": "python",
   "nbconvert_exporter": "python",
   "pygments_lexer": "ipython3",
   "version": "3.8.3"
  }
 },
 "nbformat": 4,
 "nbformat_minor": 2
}
